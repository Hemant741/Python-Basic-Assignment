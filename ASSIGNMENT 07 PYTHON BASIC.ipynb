{
 "cells": [
  {
   "cell_type": "markdown",
   "id": "4d43fed8",
   "metadata": {},
   "source": [
    "## 1. What is the name of the feature responsible for generating Regex objects\n",
    "\n",
    "Ans:-The feature in Python responsible for generating 'Regex' objects is the 're' module. This module provides support for regular expressions (regex) in Python and contains functions for working with regex patterns and creating 'Regex' objects.\n",
    "\n",
    "To generate a 'Regex' object, you can use the 'compile()' function of the 're' module, which takes a regex pattern as a string argument and returns a compiled 'Regex' object that can be used to match strings against the pattern. "
   ]
  },
  {
   "cell_type": "markdown",
   "id": "206648f0",
   "metadata": {},
   "source": [
    "## 2. Why do raw strings often appear in Regex objects?\n",
    "\n",
    "Ans:-Raw strings are often used in Python regex patterns to avoid escaping special characters. In Python, backslashes () are used to escape characters in strings. For example, if you want to include a double quote (\") character in a string, you would need to escape it like this:\n",
    "\n",
    "string = \"She said, \\\"Hello!\\\"\"\n"
   ]
  },
  {
   "cell_type": "markdown",
   "id": "ab9f748b",
   "metadata": {},
   "source": [
    "## 3. What is the return value of the search() method\n",
    "\n",
    "Ans:-The search() method of a Regex object in Python returns a match object if a match is found in the string being searched, or None if no match is found.\n",
    "\n",
    "The match object contains information about the match, such as the starting and ending positions of the match in the string, the matched substring, and any groups that were matched. You can use methods and attributes of the match object to access this information."
   ]
  },
  {
   "cell_type": "markdown",
   "id": "f703069d",
   "metadata": {},
   "source": [
    "## 4. From a Match item, how do you get the actual strings that match the pattern?\n",
    "\n",
    "Ans:-To get the actual strings that match the pattern from a 'Match' object in Python, you can use the 'group()' method or one of its variations.\n",
    "\n",
    "The 'group()' method returns the entire matched substring, or a specific group of the match if the pattern contains one or more groups. If the match object was created using a regex pattern that contains no groups, group(0) will return the same result as 'group()'."
   ]
  },
  {
   "cell_type": "markdown",
   "id": "070a25bb",
   "metadata": {},
   "source": [
    "## 5. In the regex which created from the r'(\\d\\d\\d)-(\\d\\d\\d-\\d\\d\\d\\d)', what does group zero cover? Group 2? Group 1?\n",
    "\n",
    "Ans:-The regex r'(\\d\\d\\d)-(\\d\\d\\d-\\d\\d\\d\\d)' defines two groups using parentheses. Group 1 is defined as (\\d\\d\\d) and matches three consecutive digits, and group 2 is defined as (\\d\\d\\d-\\d\\d\\d\\d) and matches a string of six digits separated by a hyphen.\n",
    "\n",
    "In Python, group 0 in a match object always covers the entire matched string. In other words, it represents the entire substring that matched the regex pattern.\n",
    "\n",
    "Group 1 in the match object covers the first group of the regex, which is '(\\d\\d\\d)'. This group matches three consecutive digits, so group 1 in the match object will contain a string of three digits.\n",
    "\n",
    "Group 2 in the match object covers the second group of the regex, which is '(\\d\\d\\d-\\d\\d\\d\\d)'. This group matches a string of six digits separated by a hyphen, so group 2 in the match object will contain a string of six digits separated by a hyphen.\n"
   ]
  },
  {
   "cell_type": "markdown",
   "id": "37a35830",
   "metadata": {},
   "source": [
    "## 6. In standard expression syntax, parentheses and intervals have distinct meanings. How can you tell a regex that you want it to fit real parentheses and periods?\n",
    "\n",
    "Ans:-In regular expressions syntax, parentheses and intervals have special meanings and are used for grouping and specifying repetitions, respectively. To match literal parentheses and periods in a regular expression pattern, you need to escape them using a backslash '\\'.\n",
    "\n",
    "In Python, you can use the backslash character '\\' to escape special characters in a regular expression pattern. For example, to match a literal left parenthesis '(' and right parenthesis ')', you can escape them like this: '\\(' and '\\)'.\n",
    "\n",
    "Similarly, to match a literal period '.' you can escape it like this: '\\.'. This tells the regular expression engine to treat the period as a literal character, rather than as a wildcard character that matches any character."
   ]
  },
  {
   "cell_type": "markdown",
   "id": "8b223a47",
   "metadata": {},
   "source": [
    "## 7. The findall() method returns a string list or a list of string tuples. What causes it to return one of the two options?\n",
    "\n",
    "Ans:-The 'findall()' method in Python's regular expression module 're' returns a list of all non-overlapping matches of a regular expression pattern in a string. The type of the list that is returned depends on whether the regular expression pattern has any capturing groups or not.\n",
    "\n",
    "If the regular expression pattern has no capturing groups (i.e., no parentheses), the 'findall()' method returns a list of strings, where each string is a non-overlapping match of the pattern in the input string."
   ]
  },
  {
   "cell_type": "markdown",
   "id": "90572229",
   "metadata": {},
   "source": [
    "## 8. In standard expressions, what does the | character mean?\n",
    "\n",
    "Ans:-In regular expressions, the | character, also known as the pipe or alternation operator, is used to match either one expression or another expression.\n",
    "\n",
    "For example, the regular expression pattern a|b matches either the letter a or the letter b. "
   ]
  },
  {
   "cell_type": "markdown",
   "id": "685b7287",
   "metadata": {},
   "source": [
    "## 9. In regular expressions, what does the character stand for?\n",
    "\n",
    "Ans:-In regular expressions, the '.' character (dot) is a special metacharacter that matches any character except a newline character.\n",
    "\n",
    "For example, the regular expression pattern 'a.b' matches any three-character string that starts with the letter a, ends with the letter b, and has any character (except a newline character) in between. "
   ]
  },
  {
   "cell_type": "markdown",
   "id": "b32c3e79",
   "metadata": {},
   "source": [
    "## 10.In regular expressions, what is the difference between the + and * characters?\n",
    "\n",
    "Ans:-In regular expressions, the '+' and '*' characters are both quantifiers that indicate how many times the preceding character or group should be matched.\n",
    "\n",
    "The '+' character matches one or more occurrences of the preceding character or group. For example, the regular expression pattern 'a+' matches one or more occurrences of the letter 'a'.\n",
    "\n",
    "The '*' character, on the other hand, matches zero or more occurrences of the preceding character or group. For example, the regular expression pattern  ' a* ' matches zero or more occurrences of the letter 'a'. "
   ]
  },
  {
   "cell_type": "markdown",
   "id": "fa6de9a7",
   "metadata": {},
   "source": [
    "## 11. What is the difference between {4} and {4,5} in regular expression?\n",
    "\n",
    "Ans:-In regular expressions, '{4}' and '{4,5}' are both quantifiers that indicate how many times the preceding character or group should be matched, but they differ in the number of times they match.\n",
    "\n",
    "The '{4}' quantifier matches exactly four occurrences of the preceding character or group. For example, the regular expression pattern 'a{4}' matches exactly four occurrences of the letter 'a'.\n",
    "\n",
    "The '{4,5}' quantifier, on the other hand, matches between four and five occurrences of the preceding character or group. For example, the regular expression pattern 'a{4,5}' matches between four and five occurrences of the letter 'a'."
   ]
  },
  {
   "cell_type": "markdown",
   "id": "82d36fa9",
   "metadata": {},
   "source": [
    "## 12. What do you mean by the \\d, \\w, and \\s shorthand character classes signify in regular expressions?\n",
    "\n",
    "Ans:-In regular expressions, shorthand character classes are used to match specific types of characters. The \\d, \\w, and \\s shorthand character classes have the following meanings:\n",
    "\n",
    "\\d: Matches any digit character. This is equivalent to the character class [0-9].\n",
    "\n",
    "\\w: Matches any alphanumeric character, including the underscore (_). This is equivalent to the character class [a-zA-Z0-9_].\n",
    "\n",
    "\\s: Matches any whitespace character, including spaces, tabs, and newlines."
   ]
  },
  {
   "cell_type": "markdown",
   "id": "933a5345",
   "metadata": {},
   "source": [
    "## 13. What do means by \\D, \\W, and \\S shorthand character classes signify in regular expressions?\n",
    "\n",
    "Ans:-In regular expressions, the \\D, \\W, and \\S shorthand character classes are used to match specific types of characters, similar to \\d, \\w, and \\s, but with the opposite meaning. Specifically:\n",
    "\n",
    "\\D: Matches any character that is not a digit character. This is equivalent to the character class [^0-9].\n",
    "\n",
    "\\W: Matches any character that is not an alphanumeric character, including the underscore (_). This is equivalent to the character class [^a-zA-Z0-9_].\n",
    "\n",
    "\\S: Matches any character that is not a whitespace character, including spaces, tabs, and newlines."
   ]
  },
  {
   "cell_type": "markdown",
   "id": "38aa0044",
   "metadata": {},
   "source": [
    "## 14. What is the difference between .*? and .*?\n",
    "\n",
    "Ans:-There is no difference between .*? and .* in Python regular expressions because the * and ? have different meanings in different contexts.\n",
    "\n",
    "In general, '*' is a quantifier that means \"zero or more times\", and ? is a modifier that means \"match the previous character or group zero or one times\".\n",
    "\n",
    "When used together with . (which matches any character except a newline), '.*' means \"match any number of any characters\". However, when '*' is used with ? as in .'*?', it becomes a non-greedy quantifier, meaning it matches as few characters as possible while still allowing the pattern to match.\n",
    "\n",
    "In summary, '.*' matches any number of any characters (as many as possible), while .'*?' matches any number of any characters (as few as possible)."
   ]
  },
  {
   "cell_type": "markdown",
   "id": "38e65c16",
   "metadata": {},
   "source": [
    "## 15. What is the syntax for matching both numbers and lowercase letters with a character class?\n",
    "\n",
    "Ans:-To match both numbers and lowercase letters with a character class in Python regular expressions, you can use the shorthand character classes \\d and \\w.\n",
    "\n",
    "The syntax for the character class would be [0-9a-z], which means \"match any character that is either a number from 0 to 9 or a lowercase letter from a to z\".\n",
    "\n",
    "However, you can simplify this by using the \\w shorthand character class, which matches any alphanumeric character (i.e., both numbers and letters).\n",
    "\n",
    "So, the syntax to match both numbers and lowercase letters with a character class in Python regex would be: [\\d\\w] or simply \\w.\n"
   ]
  },
  {
   "cell_type": "markdown",
   "id": "8b297d2d",
   "metadata": {},
   "source": [
    "## 16. What is the procedure for making a normal expression in regax case insensitive?\n",
    "\n",
    "Ans:-To make a regular expression case-insensitive in Python, you can pass the re.IGNORECASE or re.I flag as the second argument to the re.compile() function, or as the third argument to other re functions like re.search(), re.findall(), etc.\n",
    "\n",
    "Here is the procedure for making a regular expression case-insensitive in Python:\n",
    "\n",
    "1.Import the re module.\n",
    "\n",
    "2.Write your regular expression using the re.compile() function.\n",
    "\n",
    "3.Pass the re.IGNORECASE or re.I flag as the second argument to make the regular expression case-insensitive.\n",
    "\n",
    "4.Use the resulting compiled regular expression object (e.g., pattern) to search for or match strings using the various re functions (e.g., re.search(), re.findall(), etc.)."
   ]
  },
  {
   "cell_type": "markdown",
   "id": "1aac8d4d",
   "metadata": {},
   "source": [
    "## 17. What does the . character normally match? What does it match if re.DOTALL is passed as 2nd argument in re.compile()?\n",
    "\n",
    "Ans:-In Python regular expressions, the '.' character (period or dot) normally matches any character except a newline character (\\n).\n",
    "\n",
    "However, if the 're.DOTALL' flag is passed as the second argument to the 're.compile()' function, then the '.' character will match any character, including newline characters."
   ]
  },
  {
   "cell_type": "markdown",
   "id": "148a793f",
   "metadata": {},
   "source": [
    "## 18. If numReg = re.compile(r'\\d+'), what will numRegex.sub('X', '11 drummers, 10 pipers, five rings, 4 hen') return?\n",
    "\n",
    "Ans:-f numRegex = re.compile(r'\\d+'), then calling numRegex.sub('X', '11 drummers, 10 pipers, five rings, 4 hen') in Python will replace all occurrences of one or more digits with the letter 'X'. The resulting string will be:\n",
    "\n",
    "'X drummers, X pipers, five rings, X hen'\n",
    "\n",
    "Explanation:\n",
    "\n",
    "1.The regular expression r'\\d+' matches one or more digits.\n",
    "\n",
    "2.The sub() method replaces all matches of the regular expression with the replacement string, which is 'X' in this case.\n",
    "\n",
    "3.In the given input string, '11' and '10' are both matches for the regular expression, so they are replaced with 'X'. '4' is also a match, so it is replaced as well. However, 'five' is not a match, so it is not replaced.\n"
   ]
  },
  {
   "cell_type": "markdown",
   "id": "48c961e8",
   "metadata": {},
   "source": [
    "## 19. What does passing re.VERBOSE as the 2nd argument to re.compile() allow to do?\n",
    "\n",
    "Ans:-In Python regular expressions, passing 're.VERBOSE' as the second argument to 're.compile()' allows you to write regular expressions in a more readable and maintainable way by ignoring whitespace and adding comments to the pattern.\n",
    "\n",
    "By default, regular expressions are written as a single line of text, with no comments or whitespace allowed within the pattern. This can make complex patterns difficult to read and understand.\n",
    "\n",
    "However, by passing 're.VERBOSE' as the second argument to 're.compile()', you can write the regular expression across multiple lines, add comments, and use whitespace to improve readability."
   ]
  },
  {
   "cell_type": "markdown",
   "id": "6e1e1598",
   "metadata": {},
   "source": [
    "## 20. How would you write a regex that match a number with comma for every three digits? It must match the given following:\n",
    "## '42'\n",
    "## '1,234'\n",
    "## '6,368,745'\n",
    "## but not the following:\n",
    "## '12,34,567' (which has only two digits between the commas)\n",
    "## '1234' (which lacks commas)\n",
    "\n",
    "Ans:-Here's an example of how you can use this regular expression in Python:\n",
    "\n",
    "\n",
    "\n",
    "import re\n",
    "\n",
    "pattern = re.compile(r'^\\d{1,3}(,\\d{3})*$')\n",
    "\n",
    "print(pattern.match('42\n",
    "\n",
    "print(pattern.match('1,234'))\n",
    "\n",
    "print(pattern.match('6,368,745'))\n",
    "\n",
    "print(pattern.match('12,34,567'))\n",
    "\n",
    "print(pattern.match('1234'))\n",
    "\n",
    "\n",
    "This will output:\n",
    "\n",
    "\n",
    "<re.Match object; span=(0, 2), match='42'>\n",
    "\n",
    "<re.Match object; span=(0, 5), match='1,234'>\n",
    "\n",
    "<re.Match object; span=(0, 9), match='6,368,745'>\n",
    "\n",
    "None\n",
    "\n",
    "None\n"
   ]
  },
  {
   "cell_type": "markdown",
   "id": "50d19541",
   "metadata": {},
   "source": [
    "## 21. How would you write a regex that matches the full name of someone whose last name is Watanabe? You can assume that the first name that comes before it will always be one word that begins with a capital letter. The regex must match the following:\n",
    "## 'Haruto Watanabe'\n",
    "## 'Alice Watanabe'\n",
    "## 'RoboCop Watanabe'\n",
    "## but not the following:\n",
    "## 'haruto Watanabe' (where the first name is not capitalized)\n",
    "## 'Mr. Watanabe' (where the preceding word has a nonletter character)\n",
    "## 'Watanabe' (which has no first name)\n",
    "## 'Haruto watanabe' (where Watanabe is not capitalized)\n",
    "\n",
    "Ans:-This regex ensures that the first name starts with an uppercase letter and the last name is specifically \"Watanabe\". Here's an example usage:\n",
    "\n",
    "\n",
    "import re\n",
    "\n",
    "name_regex = re.compile(r'^[A-Z][a-zA-Z]*\\sWatanabe$')\n",
    "\n",
    "print(name_regex.search('Haruto Watanabe'))  # match\n",
    "\n",
    "print(name_regex.search('Alice Watanabe'))  # match\n",
    "\n",
    "print(name_regex.search('RoboCop Watanabe'))  # match\n",
    "\n",
    "print(name_regex.search('haruto Watanabe'))  # no match\n",
    "\n",
    "print(name_regex.search('Mr. Watanabe'))  # no match\n",
    "\n",
    "print(name_regex.search('Watanabe'))  # no match\n",
    "\n",
    "print(name_regex.search('Haruto watanabe'))  # no match\n"
   ]
  },
  {
   "cell_type": "markdown",
   "id": "1687dab1",
   "metadata": {},
   "source": [
    "## 22. How would you write a regex that matches a sentence where the first word is either Alice, Bob, or Carol; the second word is either eats, pets, or throws; the third word is apples, cats, or baseballs; and the sentence ends with a period? This regex should be case-insensitive. It must match the following:\n",
    "## 'Alice eats apples.'\n",
    "## 'Bob pets cats.'\n",
    "## 'Carol throws baseballs.'\n",
    "## 'Alice throws Apples.'\n",
    "## 'BOB EATS CATS.'\n",
    "## but not the following:\n",
    "## 'RoboCop eats apples.'\n",
    "## 'ALICE THROWS FOOTBALLS.'\n",
    "## 'Carol eats 7 cats.'\n",
    "\n",
    "Ans:-To match the described sentence pattern, we can use the following regex:\n",
    "\n",
    "^(Alice|Bob|Carol)\\s+(eats|pets|throws)\\s+(apples|cats|baseballs)\\.$\n"
   ]
  },
  {
   "cell_type": "code",
   "execution_count": null,
   "id": "064cce81",
   "metadata": {},
   "outputs": [],
   "source": []
  }
 ],
 "metadata": {
  "kernelspec": {
   "display_name": "Python 3 (ipykernel)",
   "language": "python",
   "name": "python3"
  },
  "language_info": {
   "codemirror_mode": {
    "name": "ipython",
    "version": 3
   },
   "file_extension": ".py",
   "mimetype": "text/x-python",
   "name": "python",
   "nbconvert_exporter": "python",
   "pygments_lexer": "ipython3",
   "version": "3.10.9"
  }
 },
 "nbformat": 4,
 "nbformat_minor": 5
}
