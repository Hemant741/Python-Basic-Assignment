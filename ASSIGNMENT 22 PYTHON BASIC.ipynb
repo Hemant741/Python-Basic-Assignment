{
 "cells": [
  {
   "cell_type": "markdown",
   "id": "7a4771e9",
   "metadata": {},
   "source": [
    "## 1. What is the result of the code, and explain?\n",
    "## >>> X = 'iNeuron'\n",
    "## >>> def func():\n",
    "## print(X)\n",
    "## >>> func()\n",
    "\n",
    "Ans:-The output of the code will be \"iNeuron\"."
   ]
  },
  {
   "cell_type": "markdown",
   "id": "5f5c2505",
   "metadata": {},
   "source": [
    "## 2. What is the result of the code, and explain?\n",
    "## >>> X = 'iNeuron'\n",
    "## >>> def func():\n",
    "## X = 'NI!'\n",
    "## >>> func()\n",
    "## >>> print(X)\n",
    "\n",
    "Ans:-The output of the code would be iNeuron.\n",
    "\n",
    "In the function func(), a local variable X is created and assigned the value 'NI!'. This variable is different from the global variable X which is assigned the value 'iNeuron'.\n",
    "\n",
    "When func() is called, it does not return any value or perform any output operations, so nothing is printed on the console.\n",
    "\n",
    "After the function call, print(X) is executed, which prints the value of the global variable X, which is still 'iNeuron'."
   ]
  },
  {
   "cell_type": "markdown",
   "id": "155a7ba1",
   "metadata": {},
   "source": [
    "## 3. What does this code print, and why?\n",
    "## >>> X = 'iNeuron'\n",
    "## >>> def func():\n",
    "## X = 'NI'\n",
    "## print(X)\n",
    "## >>> func()\n",
    "## >>> print(X)\n",
    "\n",
    "\n",
    "Ans:-The code will print 'NI' because inside the function func(), the variable X is assigned the string value of 'NI' and then printed. However, this change to X inside the function does not affect the value of X outside the function. So, when the print(X) statement is executed outside of the function, it will print the original value of X, which is 'iNeuron'."
   ]
  },
  {
   "cell_type": "markdown",
   "id": "f39a5da4",
   "metadata": {},
   "source": [
    "## 4. What output does this code produce? Why?\n",
    "## >>> X = 'iNeuron'\n",
    "## >>> def func():\n",
    "## global X\n",
    "## X = 'NI'\n",
    "## >>> func()\n",
    "## >>> print(X)\n",
    "\n",
    "Ans:-The output of the code will be 'NI'. In this code, a global statement is used inside the function to indicate that the X variable being referenced is the global X variable defined outside of the function. When the function is called, it sets the value of the global X variable to 'NI'. Therefore, when the print statement is executed after the function call, it prints the value of the global X variable, which has been changed to 'NI' by the function call.\n",
    "\n",
    "\n",
    "\n"
   ]
  },
  {
   "cell_type": "markdown",
   "id": "dfeeb07f",
   "metadata": {},
   "source": [
    "## 5. What about this code—what’s the output, and why?\n",
    "## >>> X = 'iNeuron'\n",
    "## >>> def func():\n",
    "## X = 'NI'\n",
    "## def nested():\n",
    "## print(X)\n",
    "## nested()\n",
    "## >>> func()\n",
    "## >>> X\n",
    "\n",
    "\n",
    "Ans:-The output of the code will be:\n",
    "NI\n",
    "\n",
    "\n",
    "This is because when the func() function is called, it sets the value of X to 'NI'. Then, the nested() function is defined and called inside func(), which prints the value of X (which is 'NI'). Finally, when func() is finished executing, the value of X outside the function is still 'iNeuron', so when X is printed outside the function, it prints 'iNeuron'.\n"
   ]
  },
  {
   "cell_type": "markdown",
   "id": "be3e1257",
   "metadata": {},
   "source": [
    "## 6. How about this code: what is its output in Python 3, and explain?\n",
    "## >>> def func():\n",
    "## X = 'NI'\n",
    "## def nested():\n",
    "## nonlocal X\n",
    "## X = 'Spam'\n",
    "## nested()\n",
    "## print(X)\n",
    "## >>> func()\n",
    "\n",
    "\n",
    "Ans:-The code will print \"Spam\". In Python 3, the nonlocal keyword is used to indicate that the variable being defined is a non-local variable, which means that it is not a local variable in the current function, but rather it is defined in the enclosing function. In this code, the variable X is defined in the enclosing function, func(), and the nested() function modifies it using the nonlocal keyword. Therefore, when func() is called, nested() modifies X to 'Spam', and when the print statement in func() is executed, it prints the value of X, which is 'Spam'."
   ]
  },
  {
   "cell_type": "code",
   "execution_count": null,
   "id": "ceab1494",
   "metadata": {},
   "outputs": [],
   "source": []
  }
 ],
 "metadata": {
  "kernelspec": {
   "display_name": "Python 3 (ipykernel)",
   "language": "python",
   "name": "python3"
  },
  "language_info": {
   "codemirror_mode": {
    "name": "ipython",
    "version": 3
   },
   "file_extension": ".py",
   "mimetype": "text/x-python",
   "name": "python",
   "nbconvert_exporter": "python",
   "pygments_lexer": "ipython3",
   "version": "3.10.9"
  }
 },
 "nbformat": 4,
 "nbformat_minor": 5
}
