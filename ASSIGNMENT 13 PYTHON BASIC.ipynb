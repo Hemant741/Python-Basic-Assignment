{
 "cells": [
  {
   "cell_type": "markdown",
   "id": "596ba246",
   "metadata": {},
   "source": [
    "## 1. What advantages do Excel spreadsheets have over CSV spreadsheets?\n",
    "\n",
    "Ans:-Excel spreadsheets have several advantages over CSV spreadsheets:\n",
    "\n",
    "1.Formatting: Excel allows you to format your data by changing the font, cell color, borders, and other visual elements. This can make it easier to read and understand your data.\n",
    "\n",
    "2.Formulas: Excel has a powerful set of formulas that allow you to perform calculations on your data, such as summing a column, finding the average of a set of numbers, or counting the number of cells that meet a certain criteria.\n",
    "\n",
    "3.Charts and graphs: Excel allows you to create charts and graphs based on your data, making it easier to visualize trends and patterns.\n",
    "\n",
    "4.Multiple sheets: Excel allows you to create multiple sheets within a single workbook, which can be useful for organizing and analyzing different sets of data.\n",
    "\n",
    "5.Data validation: Excel allows you to set up data validation rules to ensure that your data is accurate and consistent. For example, you can require that a cell only contain a certain type of data (such as a date or a number), or that it falls within a certain range.\n",
    "\n",
    "6.Macros: Excel allows you to create macros, which are automated scripts that can perform tasks such as formatting data or generating reports. This can save you time and reduce the risk of errors."
   ]
  },
  {
   "cell_type": "markdown",
   "id": "b239cefb",
   "metadata": {},
   "source": [
    " ## 2.What do you pass to csv.reader() and csv.writer() to create reader and writer objects?\n",
    " \n",
    " Ans:-To create a reader object, you pass a file object and optionally a dialect argument to the csv.reader() function. The file object should be opened in text mode and contain the CSV data you want to read. The dialect argument specifies the formatting options for the CSV data, such as the delimiter character, quoting rules, and so on. If you omit the dialect argument, the reader object will use the default CSV formatting options.\n",
    " \n",
    "Example:\n",
    " \n",
    " import csv\n",
    "\n",
    "with open('data.csv', 'r') as file:\n",
    "\n",
    "    reader = csv.reader(file, delimiter=',')\n",
    "    \n",
    "    for row in reader:\n",
    "    \n",
    "        print(row)\n",
    "\n",
    "\n",
    "To create a writer object, you pass a file object and optionally a dialect argument to the csv.writer() function. The file object should be opened in text mode and represent the file you want to write the CSV data to. The dialect argument specifies the formatting options for the CSV data, such as the delimiter character, quoting rules, and so on. If you omit the dialect argument, the writer object will use the default CSV formatting options.\n",
    "\n",
    "Example:\n",
    "\n",
    "import csv\n",
    "\n",
    "with open('output.csv', 'w', newline='') as file:\n",
    "\n",
    "    writer = csv.writer(file, delimiter=',', quoting=csv.QUOTE_MINIMAL)\n",
    "    \n",
    "    writer.writerow(['Name', 'Age', 'Gender'])\n",
    "    \n",
    "    writer.writerow(['Alice', 25, 'Female'])\n",
    "    \n",
    "    writer.writerow(['Bob', 30, 'Male'])\n"
   ]
  },
  {
   "cell_type": "markdown",
   "id": "742bc477",
   "metadata": {},
   "source": [
    "## 3. What modes do File objects for reader and writer objects need to be opened in?\n",
    "\n",
    "Ans:-For CSV reader and writer objects, the file object needs to be opened in text mode.\n",
    "\n",
    "When creating a reader object, you should open the file with mode 'r' (read mode):\n",
    "\n",
    "import csv\n",
    "\n",
    "with open('data.csv', 'r') as file:\n",
    "\n",
    "    reader = csv.reader(file, delimiter=',')\n",
    "    \n",
    " When creating a writer object, you should open the file with mode 'w' (write mode), and specify the newline argument as an empty string to ensure that newlines are written in the correct format for CSV files:\n",
    " \n",
    " import csv\n",
    "\n",
    "with open('output.csv', 'w', newline='') as file:\n",
    "\n",
    "    writer = csv.writer(file, delimiter=',', quoting=csv.QUOTE_MINIMAL)\n"
   ]
  },
  {
   "cell_type": "markdown",
   "id": "7fa03509",
   "metadata": {},
   "source": [
    "## 4. What method takes a list argument and writes it to a CSV file?\n",
    "\n",
    "Ans:-The writerow() method of a csv.writer object takes a list argument and writes it to a CSV file. Here's an example:\n",
    "\n",
    "import csv\n",
    "\n",
    "data = [['Name', 'Age', 'City'], ['Alice', 25, 'New York'], ['Bob', 30, 'London'], ['Charlie', 35, 'Paris']]\n",
    "\n",
    "with open('output.csv', 'w', newline='') as file:\n",
    "\n",
    "    writer = csv.writer(file)\n",
    "    \n",
    "    for row in data:\n",
    "    \n",
    "        writer.writerow(row)\n"
   ]
  },
  {
   "cell_type": "markdown",
   "id": "624172d4",
   "metadata": {},
   "source": [
    "## 5. What do the keyword arguments delimiter and line terminator do?\n",
    "\n",
    "Ans:-The delimiter keyword argument specifies the character to use as the field delimiter in a CSV file. By default, it is set to ',' (comma).\n",
    "\n",
    "For example, if you wanted to use a semicolon as the delimiter instead of a comma, you could pass delimiter=';' to the csv.writer or csv.reader constructor.\n",
    "\n",
    "The lineterminator keyword argument specifies the character(s) to use as the line terminator in a CSV file. By default, it is set to '\\r\\n' (Windows-style line endings).\n",
    "\n",
    "For example, if you wanted to use Unix-style line endings, you could pass lineterminator='\\n' to the csv.writer constructor."
   ]
  },
  {
   "cell_type": "markdown",
   "id": "c8438966",
   "metadata": {},
   "source": [
    "## 6. What function takes a string of JSON data and returns a Python data structure?\n",
    "\n",
    "Ans:-The 'json.loads()' function takes a string of JSON data and returns a Python data structure. The 'loads()' function stands for \"load string\" and is used to deserialize a JSON-formatted string into a Python object. It parses a JSON string and returns a Python object, which can be a list, dictionary, string, or number, depending on the JSON input."
   ]
  },
  {
   "cell_type": "markdown",
   "id": "729ad1a6",
   "metadata": {},
   "source": [
    "## 7. What function takes a Python data structure and returns a string of JSON data?\n",
    "\n",
    "Ans:-The 'json.dumps()' function takes a Python data structure and returns a string of JSON data. The 'dumps()' function stands for \"dump string\" and is used to serialize a Python object into a JSON-formatted string. It takes a Python object, such as a dictionary or a list, and returns a JSON-formatted string that represents the object."
   ]
  },
  {
   "cell_type": "code",
   "execution_count": null,
   "id": "f2180699",
   "metadata": {},
   "outputs": [],
   "source": []
  }
 ],
 "metadata": {
  "kernelspec": {
   "display_name": "Python 3 (ipykernel)",
   "language": "python",
   "name": "python3"
  },
  "language_info": {
   "codemirror_mode": {
    "name": "ipython",
    "version": 3
   },
   "file_extension": ".py",
   "mimetype": "text/x-python",
   "name": "python",
   "nbconvert_exporter": "python",
   "pygments_lexer": "ipython3",
   "version": "3.10.9"
  }
 },
 "nbformat": 4,
 "nbformat_minor": 5
}
