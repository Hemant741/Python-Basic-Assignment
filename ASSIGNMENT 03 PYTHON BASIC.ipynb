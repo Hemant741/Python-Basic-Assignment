{
 "cells": [
  {
   "cell_type": "markdown",
   "id": "fa32d070",
   "metadata": {},
   "source": [
    "1. Why are functions advantageous to have in your programs?\n",
    "\n",
    "\n",
    "Ans:- Following are advantageous to have function in our program:-\n",
    "\n",
    "     1.Reusability: Functions allow you to write a block of code that can be reused throughout your program. This can save      time and effort, as you don't need to write the same code multiple times. If you need to make a change to the code,        you only need to do it in one place.\n",
    "     \n",
    "     2.Modularization: Functions help break down a program into smaller, more manageable pieces. This makes it easier to        read and understand, and also makes it easier to debug and maintain. Each function can be tested independently, and        errors can be isolated and fixed more easily.\n",
    "     \n",
    "     3.Abstraction: Functions can hide complexity by abstracting away the details of the code. This makes it easier to use      and understand, especially for other programmers who may not be familiar with the underlying code.\n",
    "     \n",
    "     4.Encapsulation: Functions can also provide encapsulation, meaning that the code within the function is isolated from      the rest of the program. This can help prevent conflicts and unintended consequences, and also allows for better code      organization.\n",
    "     \n",
    "     5.Code organization: Functions allow you to organize your code into logical units, making it easier to manage and          maintain. This can also make it easier to collaborate with other developers, as each function can be assigned to a          different developer or team.\n"
   ]
  },
  {
   "cell_type": "markdown",
   "id": "68fb558b",
   "metadata": {},
   "source": [
    "2. When does the code in a function run: when it's specified or when it's called?\n",
    "\n",
    "Ans:- In programming, the code in a function runs when the function is called, not when it is specified.\n",
    "\n",
    "      When a function is defined, its code is not executed. Instead, it is stored in the memory as a set of instructions that can be executed later. When the function is called, either by another part of the program or by a user input, the code inside the function is executed, and the output of the function is returned to the caller.\n",
    "      \n",
    "      It is important to note that a function can be defined anywhere in the program, and it can be called from any part of the program as long as it is in scope. The function's code will execute every time the function is called, allowing the programmer to reuse the code and avoid repeating the same code in multiple places."
   ]
  },
  {
   "cell_type": "markdown",
   "id": "0d276255",
   "metadata": {},
   "source": [
    "3. What statement creates a function?\n",
    "\n",
    "Ans:- To create a function in Python, you can use the \"def\" statement, which is short for \"define\".\n",
    "\n",
    "      The general syntax for creating a function in Python is:-\n",
    "            \n",
    "            def function_name(parameters):\n",
    "                \"\"\"Docstring - optional documentation about the function\"\"\"\n",
    "                code to be executed\n",
    "                return [expression]\n",
    "    \n",
    "    Here, \"function_name\" is the name you want to give to the function, and \"parameters\" is a comma-separated list of input     parameters that the function expects to receive. The function code is written underneath the function declaration,         indented by 4 spaces.\n",
    "\n",
    "    The optional \"docstring\" is a brief description of the function's purpose and usage, which is enclosed in triple quotes     immediately after the function declaration.\n",
    "\n",
    "    Finally, the \"return\" statement is used to specify what value or values the function should return when it is called.       It is optional, and if it is not included, the function will return \"None\" by default."
   ]
  },
  {
   "cell_type": "markdown",
   "id": "b802b932",
   "metadata": {},
   "source": [
    "4. What is the difference between a function and a function call?\n",
    "\n",
    "Ans:-A function and a function call are two different concepts in programming.\n",
    "\n",
    "A function is a reusable block of code that performs a specific task. It is a set of instructions that are defined once and can be called multiple times from different parts of the program. A function can have parameters (also known as arguments) that are used to pass data to the function, and it can return a value to the calling code.\n",
    "\n",
    "On the other hand, a function call is an instruction to execute the code inside the function at a specific point in the program. It is the actual act of invoking a function with a specific set of arguments. When a function is called, the program jumps to the code inside the function, executes it, and then returns to the point where the function was called.\n",
    "\n",
    "To summarize, a function is a block of code that performs a specific task, while a function call is an instruction to execute that code at a specific point in the program with a specific set of arguments. A function can be defined once and called multiple times, while a function call is specific to a particular point in the program where the function is needed to be executed."
   ]
  },
  {
   "cell_type": "markdown",
   "id": "69a64bcf",
   "metadata": {},
   "source": [
    "5. How many global scopes are there in a Python program? How many local scopes?\n",
    "\n",
    "Ans:-In a Python program, there is one global scope and potentially many local scopes.\n",
    "\n",
    "The global scope is the outermost scope in a Python program, and it is created when the program starts running. Variables defined in the global scope are accessible throughout the program, including within functions defined in the program.\n",
    "\n",
    "Local scopes, on the other hand, are created whenever a function is called, and they are destroyed when the function returns. Each function call creates a new local scope, which is separate from the global scope and any other local scopes. Variables defined in a local scope are only accessible within that scope, and they are destroyed when the scope is exited."
   ]
  },
  {
   "cell_type": "markdown",
   "id": "3b934b09",
   "metadata": {},
   "source": [
    "6. What happens to variables in a local scope when the function call returns?\n",
    "\n",
    "Ans:-When a function call returns in Python, the local scope that was created for that function is destroyed, and any variables defined in that local scope are also destroyed.\n",
    "\n",
    "This means that any changes made to local variables inside the function are lost after the function call returns. These variables are not accessible from outside the function, and any attempt to access them will result in a \"NameError\"."
   ]
  },
  {
   "cell_type": "markdown",
   "id": "3b3f6b5a",
   "metadata": {},
   "source": [
    "7. What is the concept of a return value? Is it possible to have a return value in an expression?\n",
    "\n",
    "Ans:-The concept of a return value in programming refers to the value that a function returns when it is called. When a function is called, it can perform some computations and then use the \"return\" statement to send a value back to the calling code. The return value can be a variable, an object, a list, a number, or any other valid Python data type.\n",
    "\n",
    "In Python, the \"return\" statement is used to specify the return value of a function."
   ]
  },
  {
   "cell_type": "markdown",
   "id": "60d507bf",
   "metadata": {},
   "source": [
    "8. If a function does not have a return statement, what is the return value of a call to that function?\n",
    "\n",
    "Ans:-If a function does not have a return statement, the return value of a call to that function is \"None\". \"None\" is a built-in Python object that represents the absence of a value.\n",
    "\n",
    "It's important to note that even though the function does not have a return statement, it can still perform some action or computation, like printing to the console, modifying global variables, or calling other functions. The absence of a return value simply means that the function does not explicitly send a value back to the calling code."
   ]
  },
  {
   "cell_type": "markdown",
   "id": "e4775790",
   "metadata": {},
   "source": [
    "9. How do you make a function variable refer to the global variable?\n",
    "\n",
    "Ans:-In Python, to make a function variable refer to a global variable with the same name, you can use the \"global\" keyword inside the function. This tells the function to use the global variable with that name instead of creating a new local variable.\n",
    "\n",
    "Here's an example:-\n",
    "\n",
    "    x = 10\n",
    "\n",
    "def my_function():\n",
    "\n",
    "    global x\n",
    "    \n",
    "    x = 20\n",
    "    \n",
    "    print(\"Inside function: x =\", x)\n",
    "\n",
    "my_function()\n",
    "\n",
    "print(\"Outside function: x =\", x)\n",
    "\n",
    "\n",
    "In this example, we have a global variable \"x\" with a value of 10. The function \"my_function\" uses the \"global\" keyword to tell Python to use the global variable \"x\" instead of creating a new local variable with the same name. The function then changes the value of \"x\" to 20 and prints its value inside the function.\n",
    "\n",
    "When the function is called, it modifies the global variable \"x\" to 20, and the print statement inside the function outputs \"Inside function: x = 20\". Finally, the print statement outside the function outputs \"Outside function: x = 20\", confirming that the global variable has been modified by the function."
   ]
  },
  {
   "cell_type": "markdown",
   "id": "d3b05ef0",
   "metadata": {},
   "source": [
    "10. What is the data type of None?\n",
    "\n",
    "Ans:-In Python, 'None' is a built-in constant object that represents the absence of a value. It is often used to signify the lack of a return value from a function or to initialize a variable that will be assigned a value later.\n",
    "\n",
    "'None' is of type 'NoneType'. It is a singleton object, meaning that there is only one instance of it in the entire Python interpreter."
   ]
  },
  {
   "cell_type": "markdown",
   "id": "485dbf35",
   "metadata": {},
   "source": [
    "11. What does the sentence import areallyourpetsnamederic do?\n",
    "\n",
    "Ans:-The sentence \"import areallyourpetsnamederic\" does not have any predefined meaning or functionality in Python. It is not a valid Python module, package, or keyword, and attempting to run it as code would result in a ModuleNotFoundError or SyntaxError.\n",
    "\n",
    "In Python, the import statement is used to import modules or packages that contain functions, classes, and other objects that can be used in the current program. The areallyourpetsnamederic phrase is not a valid module name, so attempting to import it would fail."
   ]
  },
  {
   "cell_type": "markdown",
   "id": "7c28adf9",
   "metadata": {},
   "source": [
    "12. If you had a bacon() feature in a spam module, what would you call it after importing spam?\n",
    "\n",
    "Ans:-If you imported a module called 'spam' that contains a function called 'bacon()', you can call the 'bacon()' function using dot notation after the module name, like this:\n",
    "\n",
    "import spam\n",
    "\n",
    "spam.bacon()\n",
    "\n",
    "\n",
    "In this example, we import the 'spam' module using the 'import' statement. Then, we call the 'bacon()' function using dot notation, which specifies that the 'bacon()' function is part of the 'spam' module."
   ]
  },
  {
   "cell_type": "markdown",
   "id": "c691cf3b",
   "metadata": {},
   "source": [
    "13. What can you do to save a programme from crashing if it encounters an error?\n",
    "\n",
    "Ans:-There are several things we can do to save a program from crashing if it encounters an error:\n",
    "\n",
    "1.Use exception handling:- Python has built-in exception handling capabilities that allow you to catch and handle errors that may occur during program execution. You can use 'try'/'except' blocks to catch exceptions and take appropriate action to handle them without crashing the program.\n",
    "\n",
    "2.Validate user input:- If your program relies on user input, it's important to validate the input to ensure that it meets the required format and constraints. You can use conditional statements to check user input and prompt the user for correct input if necessary.\n",
    "\n",
    "3.Check for null or undefined values:- Before using variables or objects in your program, check to make sure that they are not null or undefined. This can prevent runtime errors that may cause the program to crash.\n",
    "\n",
    "4.Use logging:- Logging is a powerful tool for debugging and monitoring program execution. You can use logging to record errors and other important events in your program, which can help you identify and fix issues before they cause the program to crash.\n",
    "\n",
    "5.Use defensive programming techniques:- Defensive programming involves designing your code to anticipate and handle errors and unexpected input. You can use techniques like input validation, boundary checks, and fail-safe defaults to prevent errors from causing your program to crash.\n",
    "\n",
    "By using these techniques, you can create robust and reliable programs that can handle errors gracefully and avoid crashing."
   ]
  },
  {
   "cell_type": "markdown",
   "id": "348da519",
   "metadata": {},
   "source": [
    "14. What is the purpose of the try clause? What is the purpose of the except clause?\n",
    "\n",
    "Ans:-In Python, the 'try'/'except' statement is used to handle exceptions that may occur during program execution. The 'try' block contains the code that may raise an exception, and the 'except' block contains the code that handles the exception.\n",
    "\n",
    "The purpose of the 'try' clause is to enclose the code that may raise an exception. When the code in the 'try' block is executed, if an exception occurs, Python will immediately exit the 'try' block and search for an appropriate 'except' block to handle the exception.\n",
    "\n",
    "The purpose of the 'except' clause is to define the code that handles the exception that occurred in the 'try' block. When an exception is raised, Python will search for an appropriate 'except' block that matches the type of the exception. If a matching 'except' block is found, the code in that block will be executed. If no matching 'except' block is found, the exception will propagate up the call stack until it is caught by an appropriate 'except' block, or until the program terminates with an unhandled exception."
   ]
  },
  {
   "cell_type": "code",
   "execution_count": null,
   "id": "80bd76f2",
   "metadata": {},
   "outputs": [],
   "source": []
  }
 ],
 "metadata": {
  "kernelspec": {
   "display_name": "Python 3 (ipykernel)",
   "language": "python",
   "name": "python3"
  },
  "language_info": {
   "codemirror_mode": {
    "name": "ipython",
    "version": 3
   },
   "file_extension": ".py",
   "mimetype": "text/x-python",
   "name": "python",
   "nbconvert_exporter": "python",
   "pygments_lexer": "ipython3",
   "version": "3.10.9"
  }
 },
 "nbformat": 4,
 "nbformat_minor": 5
}
