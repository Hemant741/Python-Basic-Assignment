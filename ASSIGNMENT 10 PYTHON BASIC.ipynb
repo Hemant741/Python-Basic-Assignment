{
 "cells": [
  {
   "cell_type": "markdown",
   "id": "460da860",
   "metadata": {},
   "source": [
    "## 1. How do you distinguish between shutil.copy() and shutil.copytree()?\n",
    "\n",
    "Ans:-shutil.copy() and shutil.copytree() are two functions provided by the shutil module in Python for copying files and directories.\n",
    "\n",
    "shutil.copy(src, dst, *, follow_symlinks=True):\n",
    "\n",
    "This function is used to copy a file from the source location src to the destination location dst. If src is a symbolic link, the actual file referred to by the link is copied (unless follow_symlinks is set to False). If dst specifies a directory, the file is copied into that directory with the same name. If dst specifies a file name, the file is copied with that name.\n",
    "\n",
    "shutil.copytree(src, dst, symlinks=False, ignore=None, copy_function=copy2, ignore_dangling_symlinks=False, dirs_exist_ok=False):\n",
    "\n",
    "This function is used to recursively copy a directory and its contents from the source location src to the destination location dst. If dst already exists, an error is raised unless dirs_exist_ok is set to True. If symlinks is set to True, symbolic links are copied as links, rather than the files or directories they refer to. The ignore parameter can be used to specify a callable that determines which files or directories to ignore during the copy process. The copy_function parameter can be used to specify a different function to use for copying files, instead of the default shutil.copy2()."
   ]
  },
  {
   "cell_type": "markdown",
   "id": "cfdd8ea8",
   "metadata": {},
   "source": [
    "## 2. What function is used to rename files?\n",
    "\n",
    "Ans:-he os.rename() function is used to rename files in Python. It takes two arguments: the current name of the file and the new name that the file should have."
   ]
  },
  {
   "cell_type": "markdown",
   "id": "8e6b67f7",
   "metadata": {},
   "source": [
    "## 3. What is the difference between the delete functions in the send2trash and shutil modules?\n",
    "\n",
    "Ans:-The send2trash and shutil modules provide functions for deleting files and directories in Python, but they differ in their approach to deletion:\n",
    "\n",
    "send2trash module: This module provides a cross-platform send-to-trash function that sends files or directories to the system trash or recycle bin rather than permanently deleting them. The send2trash.send2trash() function takes a file or directory path as an argument and moves it to the trash or recycle bin of the user's operating system.\n",
    "\n",
    "shutil module: This module provides several functions for deleting files and directories in Python, including shutil.rmtree() and os.remove(). shutil.rmtree() is used to delete an entire directory tree, while os.remove() is used to delete a single file."
   ]
  },
  {
   "cell_type": "markdown",
   "id": "9b86c2bc",
   "metadata": {},
   "source": [
    "## 4.ZipFile objects have a close() method just like File objects’ close() method. What ZipFile method is equivalent to File objects’ open() method?\n",
    "\n",
    "Ans:-The ZipFile class in Python's zipfile module is used to create, read, write, and extract ZIP files. To open a ZIP file using the ZipFile class, you can use the ZipFile() constructor method, which is equivalent to the open() method for file objects.\n",
    "\n",
    "Here's an example of using the ZipFile() method to open a ZIP file:\n",
    "\n",
    "import zipfile\n",
    "\n",
    "with zipfile.ZipFile('example.zip', 'r') as zip_file:\n",
    "\n",
    "Once the ZIP file is opened, you can use the various methods of the ZipFile class to read or write data to the ZIP file. When you're done working with the ZIP file, you can close it using the close() method of the ZipFile class, just like you would with a file object.\n",
    "\n",
    "Here's an example of using the close() method to close the ZIP file:\n",
    "\n",
    "import zipfile\n",
    "\n",
    "with zipfile.ZipFile('example.zip', 'r') as zip_file:\n",
    "   \n",
    "zip_file.close()\n"
   ]
  },
  {
   "cell_type": "markdown",
   "id": "ec0cbbf2",
   "metadata": {},
   "source": [
    "## 5. Create a programme that searches a folder tree for files with a certain file extension (such as .pdf or .jpg). Copy these files from whatever location they are in to a new folder.\n",
    "\n",
    "Ans:-Here's an example Python program that searches a folder tree for files with a specified file extension and copies them to a new folder:\n",
    "\n",
    "import os\n",
    "import shutil\n",
    "\n",
    "def search_and_copy_files(source_folder, destination_folder, extension):\n",
    "\n",
    "    \n",
    "    if not os.path.exists(destination_folder):\n",
    "    \n",
    "        os.makedirs(destination_folder)\n",
    "\n",
    "    for foldername, subfolders, filenames in os.walk(source_folder):\n",
    "        \n",
    "        for filename in filenames:\n",
    "            \n",
    "            if filename.endswith(extension):\n",
    "                \n",
    "                source_file = os.path.join(foldername, filename)\n",
    "                \n",
    "                destination_file = os.path.join(destination_folder, filename)\n",
    "                \n",
    "                shutil.copy2(source_file, destination_file)\n",
    "\n",
    "\n",
    "search_and_copy_files('Documents', 'PDF_files', '.pdf')\n"
   ]
  },
  {
   "cell_type": "code",
   "execution_count": null,
   "id": "66e0152a",
   "metadata": {},
   "outputs": [],
   "source": []
  }
 ],
 "metadata": {
  "kernelspec": {
   "display_name": "Python 3 (ipykernel)",
   "language": "python",
   "name": "python3"
  },
  "language_info": {
   "codemirror_mode": {
    "name": "ipython",
    "version": 3
   },
   "file_extension": ".py",
   "mimetype": "text/x-python",
   "name": "python",
   "nbconvert_exporter": "python",
   "pygments_lexer": "ipython3",
   "version": "3.10.9"
  }
 },
 "nbformat": 4,
 "nbformat_minor": 5
}
