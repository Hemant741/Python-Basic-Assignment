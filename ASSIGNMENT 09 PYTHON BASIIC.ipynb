{
 "cells": [
  {
   "cell_type": "markdown",
   "id": "a06c4931",
   "metadata": {},
   "source": [
    "## 1. To what does a relative path refer?\n",
    "\n",
    "Ans:-A relative path refers to the path of a file or directory relative to the current working directory. In other words, it specifies the location of the file or directory in relation to the current working directory, rather than specifying the complete path from the root directory.\n",
    "\n",
    "For example, if the current working directory is /home/user, a relative path of ../documents/file.txt refers to a file named file.txt located in the documents directory that is one level above the current working directory.\n",
    "\n",
    "Relative paths are often used in programming when referring to files or directories that are located within the project or program directory, as they allow for more flexible and portable code that can be run on different systems without needing to hard-code full file paths."
   ]
  },
  {
   "cell_type": "markdown",
   "id": "817672b7",
   "metadata": {},
   "source": [
    "## 2. What does an absolute path start with your operating system?\n",
    "\n",
    "Ans:-The format of an absolute file path varies depending on the operating system being used, but on most modern operating systems, an absolute file path starts with the root directory of the file system. The root directory is the highest-level directory in the file system hierarchy and is identified by a forward slash / (or backslash \\ on Windows systems)."
   ]
  },
  {
   "cell_type": "markdown",
   "id": "2dcf8946",
   "metadata": {},
   "source": [
    "## 3. What do the functions os.getcwd() and os.chdir() do?\n",
    "\n",
    "Ans:-In Python, the os module provides a set of functions for working with the operating system, including functions for navigating and manipulating the file system. Two of these functions, os.getcwd() and os.chdir(), are used for getting and changing the current working directory.\n",
    "\n",
    "os.getcwd() returns a string representing the current working directory of the Python script or program. For example, the following code gets the current working directory and prints it to the console.\n",
    "\n",
    "The os.chdir() function is used to change the current working directory to a specified path. This can be useful for navigating the file system and working with files and directories located in different parts of the file system. For example, the following code changes the current working directory to the documents directory in the user's home directory."
   ]
  },
  {
   "cell_type": "markdown",
   "id": "62d93260",
   "metadata": {},
   "source": [
    "## 4. What are the . and .. folders?\n",
    "\n",
    "AnsThe . directory is a reference to the current directory, and is used to specify the current directory in file paths or command line commands. For example, the file path ./example.txt refers to a file named example.txt located in the current directory.\n",
    "\n",
    "The .. directory is a reference to the parent directory of the current directory, and is used to navigate up the file system hierarchy. For example, the file path ../example.txt refers to a file named example.txt located in the parent directory of the current directory."
   ]
  },
  {
   "cell_type": "markdown",
   "id": "f248b34b",
   "metadata": {},
   "source": [
    "## 5. In C:\\bacon\\eggs\\spam.txt, which part is the dir name, and which part is the base name?\n",
    "\n",
    "Ans:-In the file path C:\\bacon\\eggs\\spam.txt, the directory name is C:\\bacon\\eggs, and the base name is spam.txt.\n",
    "\n",
    "In general, the directory name refers to the path of the directory containing the file, and includes all the directories that need to be traversed to get to the file. In this case, the directory name is C:\\bacon\\eggs.\n",
    "\n",
    "The base name, on the other hand, refers to the name of the file itself, without the directory path. In this case, the base name is spam.txt."
   ]
  },
  {
   "cell_type": "markdown",
   "id": "b43b0861",
   "metadata": {},
   "source": [
    "## 6. What are the three “mode” arguments that can be passed to the open() function?\n",
    "\n",
    "Ans:-In Python, the open() function is used to open files, and it can take several arguments to control how the file is opened and read or written. One of these arguments is the mode argument, which specifies the purpose of the file open operation and the type of access that should be granted to the file.\n",
    "\n",
    "The three mode arguments that can be passed to the open() function are:\n",
    "\n",
    "\n",
    "\"r\" - Read mode: Opens the file for reading. This is the default mode if no mode is specified. If the file does not exist, an error is raised.\n",
    "\n",
    "\"w\" - Write mode: Opens the file for writing. If the file already exists, its contents are truncated (i.e. deleted). If the file does not exist, it is created.\n",
    "\n",
    "\"a\" - Append mode: Opens the file for writing, but does not delete the existing contents. Instead, new data is added to the end of the file. If the file does not exist, it is created.\n",
    "\n",
    "These mode arguments can also be combined with additional characters to specify additional options. For example, \"r+\" can be used to open a file for both reading and writing, while \"b\" can be used to indicate that the file should be treated as a binary file (i.e. not a text file).\n"
   ]
  },
  {
   "cell_type": "markdown",
   "id": "7597193b",
   "metadata": {},
   "source": [
    "## 7. What happens if an existing file is opened in write mode?\n",
    "\n",
    "Ans:-f an existing file is opened in write mode using the open() function in Python, the existing contents of the file will be truncated (i.e. deleted) and the file will be treated as empty. Any new data that is written to the file will overwrite the previous contents of the file.\n",
    "\n",
    "For example, consider the following code:\n",
    "\n",
    "with open(\"example.txt\", \"w\") as f\n",
    "\n",
    "    f.write(\"Hello, world!\")\n"
   ]
  },
  {
   "cell_type": "markdown",
   "id": "3b061525",
   "metadata": {},
   "source": [
    "## 8. How do you tell the difference between read() and readlines()?\n",
    "\n",
    "Ans:-In Python, the read() and readlines() methods are used to read data from a file object.\n",
    "\n",
    "The read() method reads the entire contents of the file and returns them as a single string. If you do not specify a size argument, the read() method will read the entire file at once. \n",
    "\n",
    "The readlines() method, on the other hand, reads the entire contents of the file and returns them as a list of strings, where each string represents a line in the file."
   ]
  },
  {
   "cell_type": "markdown",
   "id": "a08001f1",
   "metadata": {},
   "source": [
    "## 9. What data structure does a shelf value resemble?\n",
    "\n",
    "Ans:-In Python, a shelf is a persistent, dictionary-like object that is stored on disk. It allows you to store and retrieve Python objects using keys, just like a regular dictionary, but with the added benefit that the contents of the shelf are saved to disk and can be accessed across multiple program executions.\n",
    "\n",
    "The values in a shelf are stored in a similar format to Python dictionaries, with each key-value pair represented by a key-value tuple. However, because shelves are stored on disk, the values in a shelf are serialized and stored in a format that can be read and written by the pickle module.\n",
    "\n",
    "Therefore, the data structure of a shelf value resembles that of a serialized Python object, which can be a list, a dictionary, a tuple, or any other Python object that can be pickled. When you retrieve a value from a shelf, the value is automatically deserialized using the pickle module, which converts the serialized data back into a Python object that can be used by your program.\n"
   ]
  }
 ],
 "metadata": {
  "kernelspec": {
   "display_name": "Python 3 (ipykernel)",
   "language": "python",
   "name": "python3"
  },
  "language_info": {
   "codemirror_mode": {
    "name": "ipython",
    "version": 3
   },
   "file_extension": ".py",
   "mimetype": "text/x-python",
   "name": "python",
   "nbconvert_exporter": "python",
   "pygments_lexer": "ipython3",
   "version": "3.10.9"
  }
 },
 "nbformat": 4,
 "nbformat_minor": 5
}
