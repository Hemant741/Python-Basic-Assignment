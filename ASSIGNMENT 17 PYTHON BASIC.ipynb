{
 "cells": [
  {
   "cell_type": "markdown",
   "id": "0917c59a",
   "metadata": {},
   "source": [
    "## 1. Assign the value 7 to the variable guess_me. Then, write the conditional tests (if, else, and elif) to print the string 'too low' if guess_me is less than 7, 'too high' if greater than 7, and 'just right' if equal to 7.\n",
    "\n",
    "Ans:-Here's the Python code to assign the value 7 to the variable guess_me and print the corresponding string based on the conditional test:\n",
    "\n",
    "guess_me = 7\n",
    "\n",
    "if guess_me < 7:\n",
    "\n",
    "    print('too low')\n",
    "    \n",
    "elif guess_me > 7:\n",
    "\n",
    "    print('too high')\n",
    "    \n",
    "else:\n",
    "\n",
    "    print('just right')\n",
    "\n",
    "\n",
    "This code will output 'just right', since guess_me is equal to 7. If guess_me had been a different value, the corresponding string would have been printed instead."
   ]
  },
  {
   "cell_type": "markdown",
   "id": "02c089df",
   "metadata": {},
   "source": [
    "## 2. Assign the value 7 to the variable guess_me and the value 1 to the variable start. Write a while loop that compares start with guess_me. Print too low if start is less than guess me. If start equals guess_me, print 'found it!' and exit the loop. If start is greater than guess_me, print 'oops' and exit the loop. Increment start at the end of the loop.\n",
    "\n",
    "Ans:-Here's the Python code to assign the values to the variables and implement the while loop:\n",
    "\n",
    "guess_me = 7\n",
    "\n",
    "start = 1\n",
    "\n",
    "while True:\n",
    "\n",
    "    if start < guess_me:\n",
    "    \n",
    "        print('too low')\n",
    "        \n",
    "    elif start == guess_me:\n",
    "    \n",
    "        print('found it!')\n",
    "        \n",
    "        break\n",
    "        \n",
    "    else:\n",
    "    \n",
    "        print('oops')\n",
    "        \n",
    "        break\n",
    "        \n",
    "    start += 1\n",
    "\n",
    "\n",
    "This code will output 'too low' repeatedly until start equals guess_me, at which point it will output 'found it!' and exit the loop. If start ever exceeds guess_me, the loop will output 'oops' and exit as well. The value of start is incremented at the end of each loop iteration."
   ]
  },
  {
   "cell_type": "markdown",
   "id": "7610566b",
   "metadata": {},
   "source": [
    "## 3. Print the following values of the list [3, 2, 1, 0] using a for loop.\n",
    "\n",
    "Ans:-Here's the Python code to print the values of the list [3, 2, 1, 0] using a for loop:\n",
    "\n",
    "my_list = [3, 2, 1, 0]\n",
    "\n",
    "for item in my_list:\n",
    "\n",
    "    print(item)\n",
    "\n",
    "\n",
    "This code will output each value of the list on a separate line, in order: 3, 2, 1, 0. The for loop iterates over each item in the list and prints it.\n",
    "\n",
    "\n",
    "\n"
   ]
  },
  {
   "cell_type": "markdown",
   "id": "3cbc0bad",
   "metadata": {},
   "source": [
    "## 4. Use a list comprehension to make a list of the even numbers in range(10).\n",
    "\n",
    "Ans:-Here's the Python code to make a list of the even numbers in range(10) using a list comprehension:\n",
    "\n",
    "even_numbers = [num for num in range(10) if num % 2 == 0]\n",
    "\n",
    "print(even_numbers)\n",
    "\n",
    "\n",
    "This code will output the list [0, 2, 4, 6, 8], which contains all the even numbers in the range from 0 to 9. The list comprehension iterates over each number in the range and includes it in the new list only if it is divisible by 2 with a remainder of 0 (i.e., it is an even number)."
   ]
  },
  {
   "cell_type": "markdown",
   "id": "d2bf38eb",
   "metadata": {},
   "source": [
    "## 5. Use a dictionary comprehension to create the dictionary squares. Use range(10) to return the keys, and use the square of each key as its value.\n",
    "\n",
    "Ans:-Here's the Python code to create the dictionary squares using a dictionary comprehension:\n",
    "\n",
    "squares = {num: num**2 for num in range(10)}\n",
    "\n",
    "print(squares)\n",
    "\n",
    "\n",
    "This code will output the dictionary {0: 0, 1: 1, 2: 4, 3: 9, 4: 16, 5: 25, 6: 36, 7: 49, 8: 64, 9: 81}, which contains the squares of the numbers from 0 to 9. The dictionary comprehension iterates over each number in the range and includes it in the new dictionary with its square as the value."
   ]
  },
  {
   "cell_type": "markdown",
   "id": "9e702c28",
   "metadata": {},
   "source": [
    "## 6. Construct the set odd from the odd numbers in the range using a set comprehension (10).\n",
    "\n",
    "Ans:-Here's the Python code to construct the set odd using a set comprehension:\n",
    "\n",
    "odd = {num for num in range(10) if num % 2 == 1}\n",
    "\n",
    "print(odd)\n",
    "\n",
    "This code will output the set {1, 3, 5, 7, 9}, which contains all the odd numbers in the range from 0 to 9. The set comprehension iterates over each number in the range and includes it in the new set only if it is divisible by 2 with a remainder of 1 (i.e., it is an odd number)."
   ]
  },
  {
   "cell_type": "markdown",
   "id": "2a0ea690",
   "metadata": {},
   "source": [
    "## 7. Use a generator comprehension to return the string 'Got ' and a number for the numbers in range(10). Iterate through this by using a for loop.\n",
    "\n",
    "Ans:-Here's the Python code to use a generator comprehension to return the string 'Got ' and a number for the numbers in range(10), and iterate through the resulting generator object using a for loop:\n",
    "\n",
    "gen = ('Got ' + str(num) for num in range(10))\n",
    "\n",
    "for item in gen:\n",
    "\n",
    "    print(item)\n",
    "\n",
    "\n",
    "This code will output the strings 'Got 0', 'Got 1', 'Got 2', and so on up to 'Got 9', each on a separate line. The generator comprehension creates a generator object that concatenates the string 'Got ' with each number in the range, converted to a string. The for loop then iterates over each item in the generator and prints it."
   ]
  },
  {
   "cell_type": "markdown",
   "id": "b82035f9",
   "metadata": {},
   "source": [
    "## 8. Define a function called good that returns the list ['Harry', 'Ron', 'Hermione'].\n",
    "\n",
    "Ans:-Here's the Python code to define a function called good that returns the list ['Harry', 'Ron', 'Hermione']:\n",
    "\n",
    "def good():\n",
    "\n",
    "    return ['Harry', 'Ron', 'Hermione']\n",
    "\n",
    "This code defines a function called good that has no parameters and simply returns the list ['Harry', 'Ron', 'Hermione']. To use the function, you can call it by name and assign its return value to a variable:\n",
    "\n",
    "my_list = good()\n",
    "\n",
    "print(my_list)\n",
    "\n",
    "This will output the list ['Harry', 'Ron', 'Hermione'].\n",
    "\n",
    "\n"
   ]
  },
  {
   "cell_type": "markdown",
   "id": "6150a95a",
   "metadata": {},
   "source": [
    "## 9. Define a generator function called get_odds that returns the odd numbers from range(10). Use a for loop to find and print the third value returned.\n",
    "\n",
    "Ans:-Here's the Python code to define a generator function called get_odds that returns the odd numbers from range(10) and use a for loop to find and print the third value returned:\n",
    "\n",
    "def get_odds():\n",
    "\n",
    "    for num in range(1, 10, 2):\n",
    "    \n",
    "        yield num\n",
    "\n",
    "count = 0\n",
    "\n",
    "for odd in get_odds():\n",
    "\n",
    "    count += 1\n",
    "    \n",
    "    if count == 3:\n",
    "    \n",
    "        print(\"The third odd number is:\", odd)\n",
    "        \n",
    "        break\n",
    "\n",
    "This code defines a generator function called get_odds that yields the odd numbers from the range from 1 to 9. The for loop iterates over each odd number returned by the generator and keeps track of a count. When the count reaches 3, the loop prints the message \"The third odd number is:\" followed by the value of the third odd number (which is 5). The loop then breaks out of the loop so that it doesn't continue to iterate unnecessarily."
   ]
  },
  {
   "cell_type": "markdown",
   "id": "bb55f30f",
   "metadata": {},
   "source": [
    "## 10. Define an exception called OopsException. Raise this exception to see what happens. Then write the code to catch this exception and print 'Caught an oops'.\n",
    "\n",
    "Ans:-Here's the Python code to define an exception called OopsException, raise it, and then catch it and print a message:\n",
    "\n",
    "class OopsException(Exception):\n",
    "    pass\n",
    "    \n",
    "    \n",
    "\n",
    "try:\n",
    "\n",
    "    raise OopsException(\"Something went wrong!\")\n",
    "    \n",
    "except OopsException as ex:\n",
    "\n",
    "    print(\"Caught an oops:\", ex)\n",
    "\n",
    "\n",
    "This code defines a custom exception class called OopsException that inherits from the built-in Exception class. It then raises an instance of this exception with a message \"Something went wrong!\" using the raise statement. The try block catches the exception using the except clause, and prints the message \"Caught an oops:\" followed by the exception object (which in this case will include the message that was passed to the exception constructor). When you run this code, you should see the message \"Caught an oops: Something went wrong!\" printed to the console."
   ]
  },
  {
   "cell_type": "markdown",
   "id": "b0b6ce32",
   "metadata": {},
   "source": [
    "## 11. Use zip() to make a dictionary called movies that pairs these lists: titles = ['Creature of Habit', 'Crewel Fate'] and plots = ['A nun turns into a monster', 'A haunted yarn shop'].\n",
    "\n",
    "Ans:-Here's the Python code to use the zip() function to create a dictionary called movies that pairs the lists titles and plots:\n",
    "\n",
    "\n",
    "titles = ['Creature of Habit', 'Crewel Fate']\n",
    "\n",
    "plots = ['A nun turns into a monster', 'A haunted yarn shop']\n",
    "\n",
    "movies = dict(zip(titles, plots))\n",
    "\n",
    "print(movies)\n",
    "\n",
    "\n",
    "This code uses the zip() function to combine the titles and plots lists into tuples of corresponding elements, then passes the resulting zip object to the dict() function to create a dictionary. The resulting dictionary pairs each title with its corresponding plot. When you run this code, you should see the following output:\n",
    "\n",
    "\n",
    "{'Creature of Habit': 'A nun turns into a monster', 'Crewel Fate': 'A haunted yarn shop'}\n"
   ]
  },
  {
   "cell_type": "code",
   "execution_count": null,
   "id": "dd316f4e",
   "metadata": {},
   "outputs": [],
   "source": []
  }
 ],
 "metadata": {
  "kernelspec": {
   "display_name": "Python 3 (ipykernel)",
   "language": "python",
   "name": "python3"
  },
  "language_info": {
   "codemirror_mode": {
    "name": "ipython",
    "version": 3
   },
   "file_extension": ".py",
   "mimetype": "text/x-python",
   "name": "python",
   "nbconvert_exporter": "python",
   "pygments_lexer": "ipython3",
   "version": "3.10.9"
  }
 },
 "nbformat": 4,
 "nbformat_minor": 5
}
