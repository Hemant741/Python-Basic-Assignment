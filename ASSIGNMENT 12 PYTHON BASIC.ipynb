{
 "cells": [
  {
   "cell_type": "markdown",
   "id": "f9dbd252",
   "metadata": {},
   "source": [
    "## 1. In what modes should the PdfFileReader() and PdfFileWriter() File objects will be opened?\n",
    "\n",
    "Ans:-The 'PdfFileReader()' and 'PdfFileWriter()' classes in the PyPDF2 module are used to read and write PDF files, respectively. When creating instances of these classes, the file objects passed as arguments should be opened in different modes:\n",
    "\n",
    "1.PdfFileReader(): When creating a PdfFileReader object, the file should be opened in binary mode ('rb') using the built-in open() function. This is because PDF files are binary files and must be read in binary mode. Example code to open a PDF file in binary mode:\n",
    "\n",
    "from PyPDF2 import PdfFileReader\n",
    "\n",
    "with open('example.pdf', 'rb') as pdf_file:\n",
    "\n",
    "    pdf_reader = PdfFileReader(pdf_file)\n",
    "\n",
    "\n",
    "2.PdfFileWriter(): When creating a PdfFileWriter object, the file should be opened in binary mode ('wb') using the built-in open() function. This is because PyPDF2 writes PDF files in binary mode. Example code to create a new PDF file in binary mode:\n",
    "\n",
    "from PyPDF2 import PdfFileWriter\n",
    "\n",
    "with open('new_file.pdf', 'wb') as pdf_file:\n",
    "\n",
    "    pdf_writer = PdfFileWriter()\n",
    "    \n",
    "    pdf_writer.write(pdf_file)\n"
   ]
  },
  {
   "cell_type": "markdown",
   "id": "6abbe039",
   "metadata": {},
   "source": [
    "## 2. From a PdfFileReader object, how do you get a Page object for page 5?\n",
    "\n",
    "Ans:-To get a Page object for a specific page in a PDF file using PdfFileReader, you can use the getPage() method, which takes a zero-based index of the page you want to retrieve. To get a Page object for page 5 of a PDF file, you would call getPage(4) (remember, page indexes are zero-based):\n",
    "\n",
    "from PyPDF2 import PdfFileReader\n",
    "\n",
    "with open('example.pdf', 'rb') as pdf_file:\n",
    "\n",
    "    pdf_reader = PdfFileReader(pdf_file)\n",
    "    \n",
    "    page_5 = pdf_reader.getPage(4) # get the Page object for page 5\n"
   ]
  },
  {
   "cell_type": "markdown",
   "id": "c72748db",
   "metadata": {},
   "source": [
    "## 3. What PdfFileReader variable stores the number of pages in the PDF document?\n",
    "\n",
    "Ans:-The PdfFileReader class in the PyPDF2 module provides a 'numPages' attribute that stores the total number of pages in a PDF document. You can access this attribute after creating a PdfFileReader object from a PDF file:\n",
    "\n",
    "from PyPDF2 import PdfFileReader\n",
    "\n",
    "with open('example.pdf', 'rb') as pdf_file:\n",
    "\n",
    "    pdf_reader = PdfFileReader(pdf_file\n",
    "    \n",
    "    num_pages = pdf_reader.numPages\n"
   ]
  },
  {
   "cell_type": "markdown",
   "id": "99e54d01",
   "metadata": {},
   "source": [
    "## 4. If a PdfFileReader object’s PDF is encrypted with the password swordfish, what must you do before you can obtain Page objects from it?\n",
    "\n",
    "Ans:-If a PDF file is encrypted with a password, you need to provide the password to the PdfFileReader object using the decrypt() method before you can obtain Page objects from it. You can pass the password as a string argument to the decrypt() method:\n",
    "\n",
    "from PyPDF2 import PdfFileReader\n",
    "\n",
    "with open('encrypted_file.pdf', 'rb') as pdf_file\n",
    "\n",
    "    pdf_reader = PdfFileReader(pdf_file)\n",
    "    \n",
    "    pdf_reader.decrypt('swordfish') # provide the password to decrypt the PDF\n",
    "    \n",
    "    page_1 = pdf_reader.getPage(0) # get the Page object for the first page\n"
   ]
  },
  {
   "cell_type": "markdown",
   "id": "fcc6111a",
   "metadata": {},
   "source": [
    "## 5. What methods do you use to rotate a page?\n",
    "\n",
    "Ans:-In PyPDF2, you can use the rotateClockwise() and rotateCounterClockwise() methods of the PageObject class to rotate a page clockwise or counterclockwise, respectively.\n",
    "\n",
    "The rotateClockwise() method rotates a page 90 degrees clockwise, while the rotateCounterClockwise() method rotates a page 90 degrees counterclockwise. These methods return a new PageObject that represents the rotated page.\n",
    "\n",
    " Here's an example:\n",
    "\n",
    "from PyPDF2 import PdfFileReader, PdfFileWriter\n",
    "\n",
    "with open('example.pdf', 'rb') as pdf_file:\n",
    "\n",
    "    pdf_reader = PdfFileReader(pdf_file)\n",
    "    \n",
    "    page = pdf_reader.getPage(0)  # get the first page of the PDF\n",
    "\n",
    "    # rotate the page 90 degrees clockwise\n",
    "    \n",
    "    rotated_page = page.rotateClockwise(90)\n",
    "\n",
    "   \n",
    "    pdf_writer = PdfFileWriter()\n",
    "    \n",
    "    pdf_writer.addPage(rotated_page)\n",
    "    \n",
    "    with open('rotated.pdf', 'wb') as output_file:\n",
    "    \n",
    "        pdf_writer.write(output_file)\n"
   ]
  },
  {
   "cell_type": "markdown",
   "id": "f1fcc237",
   "metadata": {},
   "source": [
    "## 6. What is the difference between a Run object and a Paragraph object?\n",
    "\n",
    "Ans:-In the context of the python-docx library, a Run object represents a contiguous run of text with the same character formatting, while a Paragraph object represents a paragraph of text.\n",
    "\n",
    "A Run object can contain a fragment of text with a single style, while a Paragraph object contains one or more Run objects with different styles. For example, a paragraph can contain a sentence in bold followed by another sentence in italic.\n",
    "\n",
    "Here's an example of creating a Paragraph object and adding a Run object to it:\n",
    "\n",
    "\n",
    "\n",
    "from docx import Document\n",
    "\n",
    "from docx.shared import Inches\n",
    "\n",
    "document = Document()\n",
    "\n",
    "paragraph = document.add_paragraph()\n",
    "\n",
    "run = paragraph.add_run('This is a bold text.')\n",
    "\n",
    "run.bold = True\n",
    "\n",
    "document.save('example.docx')\n"
   ]
  },
  {
   "cell_type": "markdown",
   "id": "fb88cb3b",
   "metadata": {},
   "source": [
    "## 7. How do you obtain a list of Paragraph objects for a Document object that’s stored in a variable named doc?\n",
    "\n",
    "Ans:-To obtain a list of Paragraph objects for a Document object stored in a variable named doc, you can use the paragraphs property of the Document object.\n",
    "\n",
    "Here's an example:\n",
    "\n",
    "from docx import Document\n",
    "\n",
    "doc = Document('example.docx')\n",
    "\n",
    "paragraphs = doc.paragraphs\n",
    "\n",
    "for paragraph in paragraphs:\n",
    "\n",
    "    print(paragraph.text)\n"
   ]
  },
  {
   "cell_type": "markdown",
   "id": "a8ae4248",
   "metadata": {},
   "source": [
    "## 8. What type of object has bold, underline, italic, strike, and outline variables?\n",
    "\n",
    "Ans:-The Run object in the python-docx library has the following variables for character formatting:\n",
    "\n",
    "bold: controls whether the text is bold or not\n",
    "\n",
    "underline: controls whether the text is underlined or not\n",
    "\n",
    "italic: controls whether the text is italicized or not\n",
    "\n",
    "strike: controls whether the text is struck through or not\n",
    "\n",
    "outline: controls whether the text is outlined or not"
   ]
  },
  {
   "cell_type": "markdown",
   "id": "bfa7ea64",
   "metadata": {},
   "source": [
    "## 9. What is the difference between False, True, and None for the bold variable?\n",
    "\n",
    "Ans:-In the Run object of the python-docx library, the bold variable is used to control whether the text is formatted as bold or not. Here's the difference between False, True, and None for the bold variable:\n",
    "\n",
    "False: If the bold variable is set to False, the text will not be bolded, even if it was previously bolded.\n",
    "\n",
    "True: If the bold variable is set to True, the text will be bolded, even if it was not previously bolded.\n",
    "\n",
    "None: If the bold variable is set to None, the text will maintain its previous bolding state. If the text was previously bolded, it will remain bolded. If it was not previously bolded, it will not be bolded."
   ]
  },
  {
   "cell_type": "markdown",
   "id": "86577fdd",
   "metadata": {},
   "source": [
    "## 10. How do you create a Document object for a new Word document?\n",
    "\n",
    "Ans:-To create a Document object for a new Word document using the python-docx library, you can simply call the Document() function. This will create a new Document object that you can use to add content to the document. \n",
    "\n",
    "Here's an example:\n",
    "\n",
    "from docx import Document\n",
    "\n",
    "doc = Document()\n",
    "\n",
    "doc.add_heading('My Document')\n",
    "\n",
    "doc.add_paragraph('This is my first paragraph.')\n",
    "\n",
    "doc.add_paragraph('This is my second paragraph.')\n",
    "\n",
    "doc.save('my_document.docx')\n"
   ]
  },
  {
   "cell_type": "markdown",
   "id": "8208dae6",
   "metadata": {},
   "source": [
    "## 11. How do you add a paragraph with the text 'Hello, there!' to a Document object stored in a variable named doc?\n",
    "\n",
    "Ans:-To add a paragraph with the text \"Hello, there!\" to a Document object stored in a variable named doc, you can use the add_paragraph() method of the Document object. \n",
    "\n",
    "Here's an example:\n",
    "\n",
    "from docx import Document\n",
    "\n",
    "doc = Document()\n",
    "\n",
    "doc.add_paragraph('Hello, there!')\n",
    "\n",
    "doc.save('my_document.docx')\n"
   ]
  },
  {
   "cell_type": "markdown",
   "id": "14c66bd8",
   "metadata": {},
   "source": [
    "## 12. What integers represent the levels of headings available in Word documents?\n",
    "\n",
    "Ans:-In Word documents, there are generally six levels of headings available, represented by the integers 1 through 6. These are often referred to as Heading 1, Heading 2, Heading 3, and so on. Each heading level has a unique style and formatting, making it easy to create a hierarchical structure within a document. Here's an example of how you can apply a heading style to a paragraph using the docx library:\n",
    "\n",
    "\n",
    "from docx import Document\n",
    "\n",
    "from docx.enum.style import WD_STYLE_TYPE\n",
    "\n",
    "from docx.shared import Pt\n",
    "\n",
    "doc = Document()\n",
    "\n",
    "heading1 = doc.add_paragraph('Heading 1 Text', style=doc.styles[WD_STYLE_TYPE.HEADING_1])\n",
    "\n",
    "heading1.add_run('\\n')  # add line break after heading\n",
    "\n",
    "heading2 = doc.add_paragraph('Heading 2 Text', style=doc.styles[WD_STYLE_TYPE.HEADING_2])\n",
    "\n",
    "heading2.add_run('\\n')  # add line break after heading\n",
    "\n",
    "heading3 = doc.add_paragraph('Heading 3 Text', style=doc.styles[WD_STYLE_TYPE.HEADING_3])\n",
    "\n",
    "heading3.add_run('\\n')  # add line break after heading\n",
    "\n",
    "\n"
   ]
  },
  {
   "cell_type": "code",
   "execution_count": null,
   "id": "be0c02d2",
   "metadata": {},
   "outputs": [],
   "source": []
  }
 ],
 "metadata": {
  "kernelspec": {
   "display_name": "Python 3 (ipykernel)",
   "language": "python",
   "name": "python3"
  },
  "language_info": {
   "codemirror_mode": {
    "name": "ipython",
    "version": 3
   },
   "file_extension": ".py",
   "mimetype": "text/x-python",
   "name": "python",
   "nbconvert_exporter": "python",
   "pygments_lexer": "ipython3",
   "version": "3.10.9"
  }
 },
 "nbformat": 4,
 "nbformat_minor": 5
}
