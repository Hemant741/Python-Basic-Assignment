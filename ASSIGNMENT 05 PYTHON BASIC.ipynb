{
 "cells": [
  {
   "cell_type": "markdown",
   "id": "7a535379",
   "metadata": {},
   "source": [
    "## 1. What does an empty dictionary's code look like?\n",
    "\n",
    "Ans:- In Python, an empty dictionary can be created using curly braces '{}' or the built-in 'dict()' function with no arguments. Here's what the code would look like for both options"
   ]
  },
  {
   "cell_type": "markdown",
   "id": "871192ec",
   "metadata": {},
   "source": [
    "## 2. What is the value of a dictionary value with the key 'foo' and the value 42?\n",
    "\n",
    "Ans:- If a dictionary has a key 'foo' with the value 42, then the value of that key-value pair would be 42.\n",
    "\n",
    "In Python, you can access the value of a key in a dictionary using the square bracket notation, like this:\n",
    "\n",
    "my_dict = {'foo': 42}\n",
    "\n",
    "value_of_foo = my_dict['foo']\n",
    "\n",
    "print(value_of_foo)   # Output: 42"
   ]
  },
  {
   "cell_type": "markdown",
   "id": "233879c3",
   "metadata": {},
   "source": [
    "## 3. What is the most significant distinction between a dictionary and a list?\n",
    "\n",
    "Ans:-The most significant distinction between a dictionary and a list in Python is how they store and organize data.\n",
    "\n",
    "A dictionary is an unordered collection of key-value pairs. It allows you to access, add, or remove elements by their keys in constant time, regardless of the number of items in the dictionary. Keys must be unique, immutable objects, such as strings, integers, or tuples, while values can be any type of object, including other dictionaries. Dictionaries are useful for storing data that can be accessed by a unique identifier or key.\n",
    "\n",
    "Here's an example of a dictionary:\n",
    "\n",
    "my_dict = {'apple': 1, 'orange': 2, 'banana': 3}\n",
    "\n",
    "A list, on the other hand, is an ordered collection of elements, which can be of any type, and can be accessed using an index. Elements in a list can be added, removed, or modified at any position in the list. Lists are useful for storing data that is ordered or that you want to access by its position.\n",
    "\n",
    "Here's an example of a list:\n",
    "\n",
    "my_list = [1, 2, 3, 'apple', 'orange', 'banana']\n"
   ]
  },
  {
   "cell_type": "markdown",
   "id": "0c37d5e4",
   "metadata": {},
   "source": [
    "## 4. What happens if you try to access spam['foo'] if spam is {'bar': 100}?\n",
    "\n",
    "Ans:-If you try to access spam['foo'] where spam is {'bar': 100}, you will get a KeyError, because the key 'foo' does not exist in the dictionary spam.\n",
    "\n",
    "In Python, if you try to access a key in a dictionary that doesn't exist, a KeyError will be raised."
   ]
  },
  {
   "cell_type": "markdown",
   "id": "5efdbd95",
   "metadata": {},
   "source": [
    "## 5. If a dictionary is stored in spam, what is the difference between the expressions 'cat' in spam and 'cat' in spam.keys()?\n",
    "\n",
    "Ans:-If a dictionary is stored in 'spam', there is no practical difference between the expressions 'cat' in 'spam' and 'cat' in 'spam.keys()'. Both expressions check if the string 'cat' is a key in the dictionary spam.\n",
    "\n",
    "In Python, the 'in' keyword can be used to check if a key is present in a dictionary. When used with a dictionary, 'in' checks if the key is in the dictionary keys."
   ]
  },
  {
   "cell_type": "markdown",
   "id": "3eec2969",
   "metadata": {},
   "source": [
    "## 6. If a dictionary is stored in spam, what is the difference between the expressions 'cat' in spam and 'cat' in spam.values()?\n",
    "\n",
    "Ans:- If a dictionary is stored in 'spam', there is a significant difference between the expressions 'cat' in 'spam' and 'cat' in 'spam.values()'.\n",
    "\n",
    "The expression 'cat' in 'spam' checks if the string 'cat' is a key in the dictionary 'spam'. If 'cat' is a key in 'spam', the expression will evaluate to True, otherwise it will evaluate to False.\n",
    "\n",
    "On the other hand, the expression 'cat' in 'spam.values()' checks if the string 'cat' is a value in the dictionary 'spam'. If 'cat' is a value in 'spam', the expression will evaluate to True, otherwise it will evaluate to False."
   ]
  },
  {
   "cell_type": "markdown",
   "id": "77c801f0",
   "metadata": {},
   "source": [
    "## 7. What is a shortcut for the following code?\n",
    "## if 'color' not in spam:\n",
    "## spam['color'] = 'black'\n",
    "\n",
    "Ans:- The 'setdefault()' method can be used as a shortcut for the code:\n",
    "\n",
    "The 'setdefault()' method checks if a key is present in the dictionary. If the key is present, it returns the value associated with the key. If the key is not present, it sets the key with the specified value and returns the value.\n",
    "\n",
    "Here's how to use setdefault() as a shortcut for the above code:\n",
    "\n",
    "spam.setdefault('color', 'black')\n"
   ]
  },
  {
   "cell_type": "markdown",
   "id": "056f3a85",
   "metadata": {},
   "source": [
    "## 8. How do you \"pretty print\" dictionary values using which module and function?\n",
    "\n",
    "Ans:-To \"pretty print\" a dictionary in Python, you can use the pprint module's pprint() function.\n",
    "\n",
    "Here's an example of how to use the pprint() function to pretty print a dictionary:\n",
    "\n",
    "import pprint\n",
    "\n",
    "my_dict = {'apple': 1, 'orange': 2, 'banana': 3}\n",
    "\n",
    "pprint.pprint(my_dict)\n"
   ]
  },
  {
   "cell_type": "code",
   "execution_count": null,
   "id": "4ad5a42b",
   "metadata": {},
   "outputs": [],
   "source": []
  }
 ],
 "metadata": {
  "kernelspec": {
   "display_name": "Python 3 (ipykernel)",
   "language": "python",
   "name": "python3"
  },
  "language_info": {
   "codemirror_mode": {
    "name": "ipython",
    "version": 3
   },
   "file_extension": ".py",
   "mimetype": "text/x-python",
   "name": "python",
   "nbconvert_exporter": "python",
   "pygments_lexer": "ipython3",
   "version": "3.10.9"
  }
 },
 "nbformat": 4,
 "nbformat_minor": 5
}
