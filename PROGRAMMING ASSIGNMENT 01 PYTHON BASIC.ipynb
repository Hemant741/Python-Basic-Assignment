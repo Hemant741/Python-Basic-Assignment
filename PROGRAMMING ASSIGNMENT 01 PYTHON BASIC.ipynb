{
 "cells": [
  {
   "cell_type": "markdown",
   "id": "f5c036b7",
   "metadata": {},
   "source": [
    "## 1.\tWrite a Python program to print \"Hello Python\"?"
   ]
  },
  {
   "cell_type": "code",
   "execution_count": 1,
   "id": "7e2bb7ae",
   "metadata": {},
   "outputs": [
    {
     "name": "stdout",
     "output_type": "stream",
     "text": [
      "Hello Python\n"
     ]
    }
   ],
   "source": [
    "print(\"Hello Python\")"
   ]
  },
  {
   "cell_type": "markdown",
   "id": "01e1fea4",
   "metadata": {},
   "source": [
    "## 2.\tWrite a Python program to do arithmetical operations addition and division.?"
   ]
  },
  {
   "cell_type": "code",
   "execution_count": 2,
   "id": "0e02aa48",
   "metadata": {},
   "outputs": [
    {
     "name": "stdout",
     "output_type": "stream",
     "text": [
      "Enter the first number: 2\n",
      "Enter the second number: 3\n",
      "The addition of 2.0 and 3.0 is 5.0\n",
      "The division of 2.0 and 3.0 is 0.6666666666666666\n"
     ]
    }
   ],
   "source": [
    "num1 = float(input(\"Enter the first number: \"))\n",
    "\n",
    "num2 = float(input(\"Enter the second number: \"))\n",
    "\n",
    "addition = num1 + num2\n",
    "print(\"The addition of\", num1, \"and\", num2, \"is\", addition)\n",
    "\n",
    "division = num1 / num2\n",
    "print(\"The division of\", num1, \"and\", num2, \"is\", division)\n"
   ]
  },
  {
   "cell_type": "markdown",
   "id": "a07fdd00",
   "metadata": {},
   "source": [
    "## 3.\tWrite a Python program to find the area of a triangle?\n"
   ]
  },
  {
   "cell_type": "code",
   "execution_count": 3,
   "id": "e9c42b5b",
   "metadata": {},
   "outputs": [
    {
     "name": "stdout",
     "output_type": "stream",
     "text": [
      "Enter the base of the triangle: 2\n",
      "Enter the height of the triangle: 3\n",
      "The area of the triangle is 3.0\n"
     ]
    }
   ],
   "source": [
    "base = float(input(\"Enter the base of the triangle: \"))\n",
    "height = float(input(\"Enter the height of the triangle: \"))\n",
    "\n",
    "area = 0.5 * base * height\n",
    "\n",
    "print(\"The area of the triangle is\", area)\n"
   ]
  },
  {
   "cell_type": "markdown",
   "id": "6e9fb039",
   "metadata": {},
   "source": [
    "## 4.\tWrite a Python program to swap two variables?"
   ]
  },
  {
   "cell_type": "code",
   "execution_count": 4,
   "id": "e7803371",
   "metadata": {},
   "outputs": [
    {
     "name": "stdout",
     "output_type": "stream",
     "text": [
      "Enter the value of variable a: 2\n",
      "Enter the value of variable b: 3\n",
      "The value of variable a after swapping is: 3\n",
      "The value of variable b after swapping is: 2\n"
     ]
    }
   ],
   "source": [
    "a = input(\"Enter the value of variable a: \")\n",
    "\n",
    "b = input(\"Enter the value of variable b: \")\n",
    "\n",
    "temp = a\n",
    "a = b\n",
    "b = temp\n",
    "\n",
    "print(\"The value of variable a after swapping is:\", a)\n",
    "print(\"The value of variable b after swapping is:\", b)\n"
   ]
  },
  {
   "cell_type": "markdown",
   "id": "31e489c9",
   "metadata": {},
   "source": [
    "## 5.\tWrite a Python program to generate a random number?\n"
   ]
  },
  {
   "cell_type": "code",
   "execution_count": 5,
   "id": "365c8b2d",
   "metadata": {},
   "outputs": [
    {
     "name": "stdout",
     "output_type": "stream",
     "text": [
      "The random number is: 53\n"
     ]
    }
   ],
   "source": [
    "import random\n",
    "\n",
    "random_number = random.randint(1, 100)\n",
    "\n",
    "print(\"The random number is:\", random_number)\n"
   ]
  },
  {
   "cell_type": "code",
   "execution_count": null,
   "id": "5db8866a",
   "metadata": {},
   "outputs": [],
   "source": []
  }
 ],
 "metadata": {
  "kernelspec": {
   "display_name": "Python 3 (ipykernel)",
   "language": "python",
   "name": "python3"
  },
  "language_info": {
   "codemirror_mode": {
    "name": "ipython",
    "version": 3
   },
   "file_extension": ".py",
   "mimetype": "text/x-python",
   "name": "python",
   "nbconvert_exporter": "python",
   "pygments_lexer": "ipython3",
   "version": "3.10.9"
  }
 },
 "nbformat": 4,
 "nbformat_minor": 5
}
