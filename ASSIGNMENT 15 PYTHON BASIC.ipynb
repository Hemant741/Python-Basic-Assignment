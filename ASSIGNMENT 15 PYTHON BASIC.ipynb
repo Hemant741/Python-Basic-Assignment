{
 "cells": [
  {
   "cell_type": "markdown",
   "id": "07c8699c",
   "metadata": {},
   "source": [
    "## 1.How many seconds are in an hour? Use the interactive interpreter as a calculator and multiply the number of seconds in a minute (60) by the number of minutes in an hour (also 60).\n",
    "\n",
    "Ans:-There are 3600 seconds in an hour.\n",
    "\n",
    "To get this value using the interactive interpreter, you can enter the following:\n",
    "\n",
    "60 * 60\n",
    "\n",
    "This will output 3600."
   ]
  },
  {
   "cell_type": "markdown",
   "id": "142c1ec4",
   "metadata": {},
   "source": [
    "## 2. Assign the result from the previous task (seconds in an hour) to a variable called seconds_per_hour.\n",
    "\n",
    "Ans:-Sure, here's how you can assign the result (3600) to a variable called seconds_per_hour in Python:\n",
    "\n",
    "seconds_per_hour = 3600\n",
    "\n",
    "Now, you can use the variable seconds_per_hour throughout your code to represent the number of seconds in an hour."
   ]
  },
  {
   "cell_type": "markdown",
   "id": "d0a2c9f4",
   "metadata": {},
   "source": [
    "## 3. How many seconds do you think there are in a day? Make use of the variables seconds per hour and minutes per hour.\n",
    "\n",
    "Ans:-There are 24 hours in a day, so to calculate the number of seconds in a day, we can simply multiply the number of seconds in an hour by 24.\n",
    "\n",
    "So, using the variable seconds_per_hour (which we assigned the value 3600 in the previous task), we can calculate the number of seconds in a day like this:\n",
    "\n",
    "seconds_per_day = seconds_per_hour * 24\n",
    "\n",
    "Additionally, there are 60 minutes in an hour. Therefore, we can also calculate the number of seconds in a day by first calculating the number of seconds in a minute, then multiplying by the number of minutes per hour, and finally multiplying by the number of hours in a day:\n",
    "\n",
    "seconds_per_minute = 60\n",
    "\n",
    "minutes_per_hour = 60\n",
    "\n",
    "hours_per_day = 24\n",
    "\n",
    "seconds_per_day = seconds_per_minute * minutes_per_hour * hours_per_day\n",
    "\n",
    "\n",
    "Either way, the result would be 86,400 seconds in a day."
   ]
  },
  {
   "cell_type": "markdown",
   "id": "38d46762",
   "metadata": {},
   "source": [
    "## 4. Calculate seconds per day again, but this time save the result in a variable called seconds_per_day.\n",
    "\n",
    "Ans:-Sure, here's how you can calculate the number of seconds in a day and save it in a variable called seconds_per_day in Python:\n",
    "\n",
    "seconds_per_hour = 3600\n",
    "\n",
    "hours_per_day = 24\n",
    "\n",
    "seconds_per_day = seconds_per_hour * hours_per_day\n",
    "\n",
    "print(seconds_per_day)  # prints 86400\n",
    "\n",
    "\n",
    "In the code above, we first assign the number of seconds in an hour to the variable seconds_per_hour.\n",
    "\n",
    "We then assign the number of hours in a day to the variable hours_per_day. \n",
    "\n",
    "We then calculate the number of seconds in a day by multiplying seconds_per_hour and hours_per_day, and save the result in a variable called seconds_per_day.\n",
    "\n",
    "Finally, we print the value of seconds_per_day using the print() function."
   ]
  },
  {
   "cell_type": "markdown",
   "id": "c08db643",
   "metadata": {},
   "source": [
    "## 5. Divide seconds_per_day by seconds_per_hour. Use floating-point (/) division.\n",
    "\n",
    "Ans:-Sure, here's how you can divide seconds_per_day by seconds_per_hour using floating-point division (/) in Python:\n",
    "\n",
    "seconds_per_day = 86400\n",
    "\n",
    "seconds_per_hour = 3600\n",
    "\n",
    "hours_per_day = seconds_per_day / seconds_per_hour\n",
    "\n",
    "print(hours_per_day)  # prints 24.0\n",
    "\n",
    "\n"
   ]
  },
  {
   "cell_type": "markdown",
   "id": "e1c3ada3",
   "metadata": {},
   "source": [
    "## 7. Write a generator, genPrimes, that returns the sequence of prime numbers on successive calls to its next() method: 2, 3, 5, 7, 11, ...\n",
    "\n",
    "Ans:-Sure! Here is one way to implement a generator function in Python that generates prime numbers:\n",
    "\n",
    "def genPrimes():\n",
    "\n",
    "    prime_numbers = []\n",
    "    \n",
    "    num = 2\n",
    "    \n",
    "    while True:\n",
    "    \n",
    "        is_prime = True\n",
    "        \n",
    "        for prime in prime_numbers:\n",
    "        \n",
    "           if num % prime == 0:\n",
    "           \n",
    "                is_prime = False\n",
    "                \n",
    "                break\n",
    "                \n",
    "        if is_prime:\n",
    "        \n",
    "            prime_numbers.append(num)\n",
    "            \n",
    "            yield num\n",
    "            \n",
    "        num += 1\n",
    "\n",
    "\n",
    "The genPrimes function initializes an empty list called prime_numbers, which will store the prime numbers that have been generated so far. It then enters an infinite loop, and for each iteration of the loop, it checks whether the current number (num) is prime.\n",
    "\n",
    "To check whether a number is prime, the function iterates over the prime numbers that have been generated so far and checks whether the current number is divisible by any of them. If it is, then the current number is not prime and the loop continues to the next iteration. If the current number is not divisible by any of the prime numbers, then it is prime and the function appends it to the prime_numbers list and yields it.\n",
    "\n",
    "The yield statement causes the function to return the current prime number and pause execution until the next call to the next() method.\n",
    "\n",
    "You can use this function like this:\n",
    "\n",
    "primes = genPrimes()\n",
    "print(next(primes))  # prints 2\n",
    "\n",
    "print(next(primes))  # prints 3\n",
    "\n",
    "print(next(primes))  # prints 5\n",
    "\n",
    "print(next(primes))  # prints 7\n",
    "\n",
    "print(next(primes))  # prints 11\n"
   ]
  },
  {
   "cell_type": "code",
   "execution_count": null,
   "id": "df12cedd",
   "metadata": {},
   "outputs": [],
   "source": []
  }
 ],
 "metadata": {
  "kernelspec": {
   "display_name": "Python 3 (ipykernel)",
   "language": "python",
   "name": "python3"
  },
  "language_info": {
   "codemirror_mode": {
    "name": "ipython",
    "version": 3
   },
   "file_extension": ".py",
   "mimetype": "text/x-python",
   "name": "python",
   "nbconvert_exporter": "python",
   "pygments_lexer": "ipython3",
   "version": "3.10.9"
  }
 },
 "nbformat": 4,
 "nbformat_minor": 5
}
