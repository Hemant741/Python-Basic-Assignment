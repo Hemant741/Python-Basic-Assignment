{
 "cells": [
  {
   "cell_type": "markdown",
   "id": "11a8a15f",
   "metadata": {},
   "source": [
    "## 1.\tWrite a Python Program to Find LCM?"
   ]
  },
  {
   "cell_type": "code",
   "execution_count": 1,
   "id": "877a44b9",
   "metadata": {},
   "outputs": [
    {
     "name": "stdout",
     "output_type": "stream",
     "text": [
      "Enter the first integer: 25\n",
      "Enter the second integer: 36\n",
      "The LCM of 25 and 36 is 900\n"
     ]
    }
   ],
   "source": [
    "def gcd(a, b):\n",
    "    if b == 0:\n",
    "        return a\n",
    "    else:\n",
    "        return gcd(b, a % b)\n",
    "\n",
    "\n",
    "def lcm(a, b):\n",
    "    return (a * b) // gcd(a, b)\n",
    "\n",
    "\n",
    "a = int(input(\"Enter the first integer: \"))\n",
    "b = int(input(\"Enter the second integer: \"))\n",
    "\n",
    "\n",
    "lcm_value = lcm(a, b)\n",
    "\n",
    "print(\"The LCM of\", a, \"and\", b, \"is\", lcm_value)\n"
   ]
  },
  {
   "cell_type": "markdown",
   "id": "2444f0bb",
   "metadata": {},
   "source": [
    "## 2.\tWrite a Python Program to Find HCF?"
   ]
  },
  {
   "cell_type": "code",
   "execution_count": 2,
   "id": "6cb92d1c",
   "metadata": {},
   "outputs": [
    {
     "name": "stdout",
     "output_type": "stream",
     "text": [
      "Enter the first integer: 23\n",
      "Enter the second integer: 41\n",
      "The HCF of 23 and 41 is 1\n"
     ]
    }
   ],
   "source": [
    "def hcf(a, b):\n",
    "    if b == 0:\n",
    "        return a\n",
    "    else:\n",
    "        return hcf(b, a % b)\n",
    "\n",
    "\n",
    "a = int(input(\"Enter the first integer: \"))\n",
    "b = int(input(\"Enter the second integer: \"))\n",
    "\n",
    "hcf_value = hcf(a, b)\n",
    "\n",
    "print(\"The HCF of\", a, \"and\", b, \"is\", hcf_value)\n"
   ]
  },
  {
   "cell_type": "markdown",
   "id": "313e0c1c",
   "metadata": {},
   "source": [
    "## 3.\tWrite a Python Program to Convert Decimal to Binary, Octal and Hexadecimal?"
   ]
  },
  {
   "cell_type": "code",
   "execution_count": 4,
   "id": "e078e618",
   "metadata": {},
   "outputs": [
    {
     "name": "stdout",
     "output_type": "stream",
     "text": [
      "Enter a decimal integer: 25\n",
      "The binary representation of 25 is 0b11001\n",
      "The octal representation of 25 is 0o31\n",
      "The hexadecimal representation of 25 is 0x19\n"
     ]
    }
   ],
   "source": [
    "\n",
    "decimal = int(input(\"Enter a decimal integer: \"))\n",
    "\n",
    "\n",
    "binary = bin(decimal)\n",
    "\n",
    "octal = oct(decimal)\n",
    "\n",
    "hexadecimal = hex(decimal)\n",
    "\n",
    "print(\"The binary representation of\", decimal, \"is\", binary)\n",
    "print(\"The octal representation of\", decimal, \"is\", octal)\n",
    "print(\"The hexadecimal representation of\", decimal, \"is\", hexadecimal)\n"
   ]
  },
  {
   "cell_type": "markdown",
   "id": "346033d0",
   "metadata": {},
   "source": [
    "## 4.\tWrite a Python Program To Find ASCII value of a character?"
   ]
  },
  {
   "cell_type": "code",
   "execution_count": 5,
   "id": "46d6bec9",
   "metadata": {},
   "outputs": [
    {
     "name": "stdout",
     "output_type": "stream",
     "text": [
      "Enter a character: A\n",
      "The ASCII value of A is 65\n"
     ]
    }
   ],
   "source": [
    "character = input(\"Enter a character: \")\n",
    "\n",
    "ascii_value = ord(character)\n",
    "\n",
    "print(\"The ASCII value of\", character, \"is\", ascii_value)\n"
   ]
  },
  {
   "cell_type": "markdown",
   "id": "a5e49229",
   "metadata": {},
   "source": [
    "## 5.\tWrite a Python Program to Make a Simple Calculator with 4 basic mathematical operations?"
   ]
  },
  {
   "cell_type": "code",
   "execution_count": 6,
   "id": "73c239a5",
   "metadata": {},
   "outputs": [
    {
     "name": "stdout",
     "output_type": "stream",
     "text": [
      "Enter the first number: 23\n",
      "Enter the second number: 56\n",
      "Enter the operation (+, -, *, /): +\n",
      "23.0 + 56.0 = 79.0\n"
     ]
    }
   ],
   "source": [
    "def add(a, b):\n",
    "    return a + b\n",
    "\n",
    "def subtract(a, b):\n",
    "    return a - b\n",
    "\n",
    "def multiply(a, b):\n",
    "    return a * b\n",
    "\n",
    "def divide(a, b):\n",
    "    return a / b\n",
    "\n",
    "\n",
    "num1 = float(input(\"Enter the first number: \"))\n",
    "num2 = float(input(\"Enter the second number: \"))\n",
    "operation = input(\"Enter the operation (+, -, *, /): \")\n",
    "\n",
    "if operation == \"+\":\n",
    "    result = add(num1, num2)\n",
    "elif operation == \"-\":\n",
    "    result = subtract(num1, num2)\n",
    "elif operation == \"*\":\n",
    "    result = multiply(num1, num2)\n",
    "elif operation == \"/\":\n",
    "    result = divide(num1, num2)\n",
    "else:\n",
    "    print(\"Invalid operation.\")\n",
    "    exit()\n",
    "\n",
    "\n",
    "print(num1, operation, num2, \"=\", result)\n"
   ]
  },
  {
   "cell_type": "code",
   "execution_count": null,
   "id": "dcc6c423",
   "metadata": {},
   "outputs": [],
   "source": []
  }
 ],
 "metadata": {
  "kernelspec": {
   "display_name": "Python 3 (ipykernel)",
   "language": "python",
   "name": "python3"
  },
  "language_info": {
   "codemirror_mode": {
    "name": "ipython",
    "version": 3
   },
   "file_extension": ".py",
   "mimetype": "text/x-python",
   "name": "python",
   "nbconvert_exporter": "python",
   "pygments_lexer": "ipython3",
   "version": "3.10.9"
  }
 },
 "nbformat": 4,
 "nbformat_minor": 5
}
