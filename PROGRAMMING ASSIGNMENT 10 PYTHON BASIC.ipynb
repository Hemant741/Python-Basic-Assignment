{
 "cells": [
  {
   "cell_type": "markdown",
   "id": "1a890d6b",
   "metadata": {},
   "source": [
    "## 1.\tWrite a Python program to find sum of elements in list?"
   ]
  },
  {
   "cell_type": "code",
   "execution_count": 1,
   "id": "a67f2b77",
   "metadata": {},
   "outputs": [
    {
     "name": "stdout",
     "output_type": "stream",
     "text": [
      "The sum of the elements in the list is: 15\n"
     ]
    }
   ],
   "source": [
    "\n",
    "my_list = [1, 2, 3, 4, 5]\n",
    "\n",
    "\n",
    "list_sum = sum(my_list)\n",
    "\n",
    "\n",
    "print(\"The sum of the elements in the list is:\", list_sum)\n"
   ]
  },
  {
   "cell_type": "markdown",
   "id": "d06aad49",
   "metadata": {},
   "source": [
    "## 2.\tWrite a Python program to  Multiply all numbers in the list?"
   ]
  },
  {
   "cell_type": "code",
   "execution_count": 2,
   "id": "60da6aa5",
   "metadata": {},
   "outputs": [
    {
     "name": "stdout",
     "output_type": "stream",
     "text": [
      "The product of the numbers in the list is: 120\n"
     ]
    }
   ],
   "source": [
    "my_list = [1, 2, 3, 4, 5]\n",
    "\n",
    "\n",
    "product = 1\n",
    "\n",
    "\n",
    "for num in my_list:\n",
    "    product *= num\n",
    "\n",
    "\n",
    "print(\"The product of the numbers in the list is:\", product)\n"
   ]
  },
  {
   "cell_type": "markdown",
   "id": "a5387aa3",
   "metadata": {},
   "source": [
    "## 3.\tWrite a Python program to find smallest number in a list?"
   ]
  },
  {
   "cell_type": "code",
   "execution_count": 3,
   "id": "660ae93a",
   "metadata": {},
   "outputs": [
    {
     "name": "stdout",
     "output_type": "stream",
     "text": [
      "The smallest number in the list is: 1\n"
     ]
    }
   ],
   "source": [
    "my_list = [1, 2, 3, 4, 5]\n",
    "\n",
    "\n",
    "smallest = min(my_list)\n",
    "\n",
    "\n",
    "print(\"The smallest number in the list is:\", smallest)\n"
   ]
  },
  {
   "cell_type": "markdown",
   "id": "a0d2598b",
   "metadata": {},
   "source": [
    "## 4.\tWrite a Python program to find largest number in a list?"
   ]
  },
  {
   "cell_type": "code",
   "execution_count": 4,
   "id": "baac9160",
   "metadata": {},
   "outputs": [
    {
     "name": "stdout",
     "output_type": "stream",
     "text": [
      "The largest number in the list is: 5\n"
     ]
    }
   ],
   "source": [
    "my_list = [1, 2, 3, 4, 5]\n",
    "\n",
    "\n",
    "largest = max(my_list)\n",
    "\n",
    "\n",
    "print(\"The largest number in the list is:\", largest)\n"
   ]
  },
  {
   "cell_type": "markdown",
   "id": "f8862e88",
   "metadata": {},
   "source": [
    "## 5.\tWrite a Python program to find second largest number in a list?"
   ]
  },
  {
   "cell_type": "code",
   "execution_count": 5,
   "id": "53590aa0",
   "metadata": {},
   "outputs": [
    {
     "name": "stdout",
     "output_type": "stream",
     "text": [
      "The second largest number in the list is: 8\n"
     ]
    }
   ],
   "source": [
    "my_list = [5, 1, 8, 3, 9, 4]\n",
    "\n",
    "\n",
    "sorted_list = sorted(my_list, reverse=True)\n",
    "\n",
    "\n",
    "second_largest = sorted_list[1]\n",
    "\n",
    "\n",
    "print(\"The second largest number in the list is:\", second_largest)\n"
   ]
  },
  {
   "cell_type": "markdown",
   "id": "37884f28",
   "metadata": {},
   "source": [
    "## 6.\tWrite a Python program to find N largest elements from a list?"
   ]
  },
  {
   "cell_type": "code",
   "execution_count": 6,
   "id": "1c50ff2e",
   "metadata": {},
   "outputs": [
    {
     "name": "stdout",
     "output_type": "stream",
     "text": [
      "The 3 largest numbers in the list are: [9, 8, 5]\n"
     ]
    }
   ],
   "source": [
    "my_list = [5, 1, 8, 3, 9, 4]\n",
    "\n",
    "\n",
    "N = 3\n",
    "\n",
    "\n",
    "sorted_list = sorted(my_list, reverse=True)\n",
    "\n",
    "\n",
    "largest_numbers = sorted_list[:N]\n",
    "\n",
    "\n",
    "print(\"The\", N, \"largest numbers in the list are:\", largest_numbers)\n"
   ]
  },
  {
   "cell_type": "markdown",
   "id": "8bfefdd6",
   "metadata": {},
   "source": [
    "## 7.\tWrite a Python program to print even numbers in a list?"
   ]
  },
  {
   "cell_type": "code",
   "execution_count": 7,
   "id": "fc38d427",
   "metadata": {},
   "outputs": [
    {
     "name": "stdout",
     "output_type": "stream",
     "text": [
      "8\n",
      "4\n"
     ]
    }
   ],
   "source": [
    "\n",
    "my_list = [5, 1, 8, 3, 9, 4]\n",
    "\n",
    "\n",
    "for num in my_list:\n",
    "    \n",
    "    if num % 2 == 0:\n",
    "        \n",
    "        print(num)\n"
   ]
  },
  {
   "cell_type": "markdown",
   "id": "70ba79f8",
   "metadata": {},
   "source": [
    "## 8.\tWrite a Python program to print odd numbers in a List?"
   ]
  },
  {
   "cell_type": "code",
   "execution_count": 8,
   "id": "615be445",
   "metadata": {},
   "outputs": [
    {
     "name": "stdout",
     "output_type": "stream",
     "text": [
      "5\n",
      "1\n",
      "3\n",
      "9\n"
     ]
    }
   ],
   "source": [
    "\n",
    "my_list = [5, 1, 8, 3, 9, 4]\n",
    "\n",
    "\n",
    "for num in my_list:\n",
    "    \n",
    "    if num % 2 != 0:\n",
    "        \n",
    "        print(num)\n"
   ]
  },
  {
   "cell_type": "markdown",
   "id": "647cd8c4",
   "metadata": {},
   "source": [
    "## 9.\tWrite a Python program to Remove empty List from List?\n"
   ]
  },
  {
   "cell_type": "code",
   "execution_count": 9,
   "id": "c27fe35b",
   "metadata": {},
   "outputs": [
    {
     "name": "stdout",
     "output_type": "stream",
     "text": [
      "[[1, 2, 3], [4, 5], [6, 7, 8]]\n"
     ]
    }
   ],
   "source": [
    "\n",
    "my_list = [[], [1, 2, 3], [], [4, 5], [], [], [6, 7, 8]]\n",
    "\n",
    "\n",
    "my_list = [lst for lst in my_list if lst]\n",
    "\n",
    "\n",
    "print(my_list)\n"
   ]
  },
  {
   "cell_type": "markdown",
   "id": "67cdc98a",
   "metadata": {},
   "source": [
    "## 10.\tWrite a Python program to Cloning or Copying a list?"
   ]
  },
  {
   "cell_type": "code",
   "execution_count": 10,
   "id": "9c0853de",
   "metadata": {},
   "outputs": [
    {
     "name": "stdout",
     "output_type": "stream",
     "text": [
      "Original List: [1, 2, 3, 4, 5]\n",
      "Cloned List 1: [1, 2, 3, 4, 5]\n",
      "Cloned List 2: [1, 2, 3, 4, 5]\n"
     ]
    }
   ],
   "source": [
    "original_list = [1, 2, 3, 4, 5]\n",
    "\n",
    "\n",
    "cloned_list1 = original_list[:]\n",
    "\n",
    "\n",
    "cloned_list2 = original_list.copy()\n",
    "\n",
    "\n",
    "print(\"Original List:\", original_list)\n",
    "print(\"Cloned List 1:\", cloned_list1)\n",
    "print(\"Cloned List 2:\", cloned_list2)\n"
   ]
  },
  {
   "cell_type": "markdown",
   "id": "dd0d1f59",
   "metadata": {},
   "source": [
    "## 11.\tWrite a Python program to Count occurrences of an element in a list?"
   ]
  },
  {
   "cell_type": "code",
   "execution_count": 11,
   "id": "2da07f48",
   "metadata": {},
   "outputs": [
    {
     "name": "stdout",
     "output_type": "stream",
     "text": [
      "The element 2 occurs 3 times in the list.\n"
     ]
    }
   ],
   "source": [
    "\n",
    "my_list = [1, 2, 3, 2, 4, 2, 5]\n",
    "\n",
    "\n",
    "count = my_list.count(2)\n",
    "\n",
    "\n",
    "print(\"The element 2 occurs\", count, \"times in the list.\")\n"
   ]
  },
  {
   "cell_type": "code",
   "execution_count": null,
   "id": "3a1ec52e",
   "metadata": {},
   "outputs": [],
   "source": []
  }
 ],
 "metadata": {
  "kernelspec": {
   "display_name": "Python 3 (ipykernel)",
   "language": "python",
   "name": "python3"
  },
  "language_info": {
   "codemirror_mode": {
    "name": "ipython",
    "version": 3
   },
   "file_extension": ".py",
   "mimetype": "text/x-python",
   "name": "python",
   "nbconvert_exporter": "python",
   "pygments_lexer": "ipython3",
   "version": "3.10.9"
  }
 },
 "nbformat": 4,
 "nbformat_minor": 5
}
