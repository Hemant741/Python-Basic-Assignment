{
 "cells": [
  {
   "cell_type": "markdown",
   "id": "06f2fac2",
   "metadata": {},
   "source": [
    "## 1. What does RGBA stand for?\n",
    "\n",
    "Ans:-RGBA stands for Red Green Blue Alpha. It is a color model used in digital imaging, particularly in computer graphics and video editing. In this model, each pixel of an image is represented by four color components: the amount of red, green, and blue, and the level of opacity or transparency, which is represented by the alpha component."
   ]
  },
  {
   "cell_type": "markdown",
   "id": "8bce27a9",
   "metadata": {},
   "source": [
    "## 2. From the Pillow module, how do you get the RGBA value of any images?\n",
    "\n",
    "Ans:-To get the RGBA value of any image using the Pillow module in Python, you can use the getpixel() method of the Image object. This method takes a tuple of x and y coordinates and returns the RGBA value of the pixel at that location. Here is an example:\n",
    "\n",
    "from PIL import Image\n",
    "\n",
    "im = Image.open('image.png')\n",
    "\n",
    "r, g, b, a = im.getpixel((100, 100))\n",
    "\n",
    "print(f\"RGBA value of pixel (100, 100): ({r}, {g}, {b}, {a})\")\n"
   ]
  },
  {
   "cell_type": "markdown",
   "id": "6c3e8cbe",
   "metadata": {},
   "source": [
    "## 3. What is a box tuple, and how does it work?\n",
    "\n",
    "Ans:-In Pillow, a box tuple is a tuple containing four integers representing a rectangular area in an image. The four integers are (left, upper, right, lower) where left represents the x-coordinate of the leftmost point, upper represents the y-coordinate of the topmost point, right represents the x-coordinate of the rightmost point, and lower represents the y-coordinate of the bottommost point.\n",
    "\n",
    "The box tuple is used to define the region of the image to be processed. It can be passed as an argument to various Pillow methods, such as cropping an image or getting a region from an image. For example, the crop() method takes a box tuple to specify the rectangular area to be cropped from the image."
   ]
  },
  {
   "cell_type": "markdown",
   "id": "84200752",
   "metadata": {},
   "source": [
    "## 4. Use your image and load in notebook then, How can you find out the width and height of an Image object?\n",
    "\n",
    "Ans:-To find out the width and height of an Image object using the Pillow module, you can use the size attribute of the Image object. Here's an example:\n",
    "\n",
    "from PIL import Image\n",
    "\n",
    "image = Image.open(\"my_image.jpg\")\n",
    "\n",
    "width, height = image.size\n",
    "\n",
    "print(\"Width:\", width)\n",
    "\n",
    "print(\"Height:\", height)\n"
   ]
  },
  {
   "cell_type": "markdown",
   "id": "01734c67",
   "metadata": {},
   "source": [
    "## 5. What method would you call to get Image object for a 100×100 image, excluding the lower-left quarter of it?\n",
    "\n",
    "Ans:-You can use the crop() method to get an Image object for a 100×100 image, excluding the lower-left quarter of it. Here is an example:\n",
    "\n",
    "from PIL import Image\n",
    "\n",
    "img = Image.open('example.jpg')\n",
    "\n",
    "width, height = img.size\n",
    "\n",
    "box = (width/2, height/2, width, height)\n",
    "\n",
    "cropped_img = img.crop(box)\n",
    "\n",
    "\n",
    "In this example, the crop() method is used to create a new image object cropped_img which is a 100x100 pixel image, excluding the lower-left quarter of the original image. The box variable is a tuple that defines the region to be cropped, where (width/2, height/2) is the top-left coordinate of the cropped region, and (width, height) is the bottom-right coordinate of the original image."
   ]
  },
  {
   "cell_type": "markdown",
   "id": "8fc9a1ee",
   "metadata": {},
   "source": [
    "## 6. After making changes to an Image object, how could you save it as an image file?\n",
    "\n",
    "Ans:-After making changes to an Image object, you can save it as an image file using the save() method of the Image object. The save() method takes the filename to save the image and optionally a format parameter.\n",
    "\n",
    "Here's an example:\n",
    "\n",
    "from PIL import Image\n",
    "\n",
    "image = Image.open('example.png')\n",
    "\n",
    "image = image.resize((200, 200))  # Resize the image to 200x200\n",
    "\n",
    "image.save('modified.png')\n"
   ]
  },
  {
   "cell_type": "markdown",
   "id": "3ee4d759",
   "metadata": {},
   "source": [
    "## 7. What module contains Pillow’s shape-drawing code?\n",
    "\n",
    "Ans:-The ImageDraw module contains Pillow's shape-drawing code."
   ]
  },
  {
   "cell_type": "markdown",
   "id": "d4455024",
   "metadata": {},
   "source": [
    "## 8. Image objects do not have drawing methods. What kind of object does? How do you get this kind of object?\n",
    "\n",
    "Ans:-The ImageDraw module contains the shape-drawing code for Pillow. You can get an ImageDraw object by calling the ImageDraw.Draw() function and passing in an Image object as an argument. For example:\n",
    "\n",
    "from PIL import Image, ImageDraw\n",
    "\n",
    "im = Image.new('RGBA', (100, 100), 'white')\n",
    "\n",
    "draw = ImageDraw.Draw(im)\n",
    "\n",
    "draw.rectangle((20, 30, 60, 70), fill='red')\n",
    "\n",
    "im.save('example.png')\n"
   ]
  },
  {
   "cell_type": "code",
   "execution_count": null,
   "id": "588babff",
   "metadata": {},
   "outputs": [],
   "source": []
  }
 ],
 "metadata": {
  "kernelspec": {
   "display_name": "Python 3 (ipykernel)",
   "language": "python",
   "name": "python3"
  },
  "language_info": {
   "codemirror_mode": {
    "name": "ipython",
    "version": 3
   },
   "file_extension": ".py",
   "mimetype": "text/x-python",
   "name": "python",
   "nbconvert_exporter": "python",
   "pygments_lexer": "ipython3",
   "version": "3.10.9"
  }
 },
 "nbformat": 4,
 "nbformat_minor": 5
}
