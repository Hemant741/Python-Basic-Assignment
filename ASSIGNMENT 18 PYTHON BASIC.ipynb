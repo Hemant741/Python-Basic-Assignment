{
 "cells": [
  {
   "cell_type": "markdown",
   "id": "3408554d",
   "metadata": {},
   "source": [
    "## 1. Create a zoo.py file first. Define the hours() function, which prints the string 'Open 9-5 daily'. Then, use the interactive interpreter to import the zoo module and call its hours() function.\n",
    "\n",
    "Ans:-To create a zoo.py file with the hours() function, you can use the following code:\n",
    "\n",
    "def hours():\n",
    "\n",
    "    print('Open 9-5 daily')\n",
    "\n",
    "\n",
    "Save this code in a file called zoo.py.\n",
    "\n",
    "To import the zoo module and call its hours() function using the interactive interpreter, follow these steps:\n",
    "\n",
    "1.Open a Python shell or the Python interpreter in the terminal.\n",
    "\n",
    "2.Import the zoo module using the import statement:\n",
    "\n",
    "import zoo\n",
    "\n",
    "3.Call the hours() function using the zoo.hours() syntax:\n",
    "\n",
    "zoo.hours()\n",
    "\n",
    "\n",
    "You should see the output Open 9-5 daily printed to the console."
   ]
  },
  {
   "cell_type": "markdown",
   "id": "e3a898be",
   "metadata": {},
   "source": [
    "## 2. In the interactive interpreter, import the zoo module as menagerie and call its hours() function.\n",
    "\n",
    "Ans:-To import the zoo module as menagerie and call its hours() function using the interactive interpreter, follow these steps:\n",
    "\n",
    "1.Open a Python shell or the Python interpreter in the terminal.\n",
    "\n",
    "2.Import the zoo module using the import statement and specify the alias menagerie:\n",
    "\n",
    "import zoo as menagerie\n",
    "\n",
    "\n",
    "3.Call the hours() function using the menagerie.hours() syntax:\n",
    "\n",
    "menagerie.hours()\n",
    "\n",
    "\n",
    "You should see the output Open 9-5 daily printed to the console. Note that we use the alias menagerie instead of zoo to access the hours() function."
   ]
  },
  {
   "cell_type": "markdown",
   "id": "9e2ec8b6",
   "metadata": {},
   "source": [
    "## 3. Using the interpreter, explicitly import and call the hours() function from zoo.\n",
    "\n",
    "Ans:-To explicitly import and call the hours() function from the zoo module using the interactive interpreter, follow these steps:\n",
    "\n",
    "1.Open a Python shell or the Python interpreter in the terminal.\n",
    "\n",
    "2.Import the hours() function from the zoo module using the from ... import statement:\n",
    "\n",
    "from zoo import hours\n",
    "\n",
    "3.Call the hours() function using the hours() syntax:\n",
    "\n",
    "hours()\n",
    "\n",
    "\n",
    "You should see the output Open 9-5 daily printed to the console. Note that we are importing only the hours() function from the zoo module and using it directly without specifying the module name."
   ]
  },
  {
   "cell_type": "markdown",
   "id": "d0e5adb7",
   "metadata": {},
   "source": [
    "## 4. Import the hours() function as info and call it.\n",
    "\n",
    "Ans:-To import the hours() function from the zoo module as info and call it using the interactive interpreter, follow these steps:\n",
    "\n",
    "1.Open a Python shell or the Python interpreter in the terminal.\n",
    "\n",
    "2.Import the hours() function from the zoo module and specify the alias info using the as keyword:\n",
    "\n",
    "from zoo import hours as info\n",
    "\n",
    "3.Call the info() function using the info() syntax:\n",
    "\n",
    "info()\n",
    "\n",
    "You should see the output Open 9-5 daily printed to the console. Note that we are using the alias info instead of the original function name hours to access the function."
   ]
  },
  {
   "cell_type": "markdown",
   "id": "78802952",
   "metadata": {},
   "source": [
    "## 5. Create a plain dictionary with the key-value pairs 'a': 1, 'b': 2, and 'c': 3, and print it out.\n",
    "\n",
    "Ans:-To create a plain dictionary with the key-value pairs 'a': 1, 'b': 2, and 'c': 3, and print it out using the interactive interpreter, follow these steps:\n",
    "\n",
    "1.Open a Python shell or the Python interpreter in the terminal.\n",
    "\n",
    "2.Create the dictionary using curly braces {} and separating the key-value pairs with colons : and commas ,:\n",
    "\n",
    "my_dict = {'a': 1, 'b': 2, 'c': 3}\n",
    "\n",
    "3.Print the dictionary using the print() function and passing the dictionary variable as an argument:\n",
    "\n",
    "print(my_dict)\n",
    "\n",
    "\n",
    "You should see the output {'a': 1, 'b': 2, 'c': 3} printed to the console, which represents the plain dictionary with the specified key-value pairs."
   ]
  },
  {
   "cell_type": "markdown",
   "id": "36f87f35",
   "metadata": {},
   "source": [
    "## 6.Make an OrderedDict called fancy from the same pairs listed in 5 and print it. Did it print in the same order as plain?\n",
    "\n",
    "Ans:-To create an OrderedDict called fancy from the same pairs listed in 5, we can use the following code:\n",
    "\n",
    "from collections import OrderedDict\n",
    "\n",
    "fancy = OrderedDict([('apple', 4), ('banana', 3), ('pear', 1), ('orange', 2)])\n",
    "\n",
    "print(fancy)\n",
    "\n",
    "\n",
    "This will create an OrderedDict called fancy with the same key-value pairs as the plain dictionary, but with the order of the items preserved.\n",
    "\n",
    "When we print fancy, the output should be:\n",
    "\n",
    "OrderedDict([('apple', 4), ('banana', 3), ('pear', 1), ('orange', 2)])\n",
    "\n",
    "Since fancy is an OrderedDict, it should preserve the order of the items in which they were added. Therefore, the output should be in the same order as the original plain dictionary."
   ]
  },
  {
   "cell_type": "markdown",
   "id": "17c789ef",
   "metadata": {},
   "source": [
    "## 7. Make a default dictionary called dict_of_lists and pass it the argument list. Make the list dict_of_lists['a'] and append the value 'something for a' to it in one assignment. Print dict_of_lists['a'].\n",
    "\n",
    "Ans:-To create a default dictionary called dict_of_lists and pass it the argument list, we can use the following code:\n",
    "\n",
    "from collections import defaultdict\n",
    "\n",
    "dict_of_lists = defaultdict(list)\n",
    "\n",
    "\n",
    "This will create a defaultdict called dict_of_lists with default values of an empty list.\n",
    "\n",
    "To append the value 'something for a' to the list associated with the key 'a', we can use the following code:\n",
    "\n",
    "dict_of_lists['a'].append('something for a')\n",
    "\n",
    "This will append the value 'something for a' to the list associated with the key 'a'.\n",
    "\n",
    "To print the list associated with the key 'a', we can use the following code:\n",
    "\n",
    "print(dict_of_lists['a'])\n",
    "\n",
    "\n",
    "This will output:\n",
    "\n",
    "['something for a']\n"
   ]
  },
  {
   "cell_type": "code",
   "execution_count": null,
   "id": "5d5110a3",
   "metadata": {},
   "outputs": [],
   "source": []
  }
 ],
 "metadata": {
  "kernelspec": {
   "display_name": "Python 3 (ipykernel)",
   "language": "python",
   "name": "python3"
  },
  "language_info": {
   "codemirror_mode": {
    "name": "ipython",
    "version": 3
   },
   "file_extension": ".py",
   "mimetype": "text/x-python",
   "name": "python",
   "nbconvert_exporter": "python",
   "pygments_lexer": "ipython3",
   "version": "3.10.9"
  }
 },
 "nbformat": 4,
 "nbformat_minor": 5
}
