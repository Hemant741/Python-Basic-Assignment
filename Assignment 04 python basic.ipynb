{
 "cells": [
  {
   "cell_type": "markdown",
   "id": "2f0a8672",
   "metadata": {},
   "source": [
    "## 1. What exactly is []?\n",
    "\n",
    "Ans:- In Python, '[]' is an empty list. It is a built-in data type that represents a collection of elements, where each element can be of any data type, including other lists. An empty list is a list that contains no elements.\n",
    "\n",
    "You can create an empty list by simply using the square brackets '[]'.\n",
    "\n",
    "like this:-\n",
    "\n",
    "empty_list = []"
   ]
  },
  {
   "cell_type": "markdown",
   "id": "734b31a1",
   "metadata": {},
   "source": [
    "## 2. In a list of values stored in a variable called spam, how would you assign the value 'hello' as the third value? (Assume [2, 4, 6, 8, 10] are in spam.)\n",
    "\n",
    "Ans:-To assign the value 'hello' as the third value in a list stored in a variable called spam, you can use indexing and assignment to replace the existing element at index 2 with the new value. In Python, lists are indexed starting from 0, so the third value has an index of 2. Here is an example:\n",
    "\n",
    "spam = [2, 4, 6, 8, 10]\n",
    "\n",
    "spam[2] = 'hello'\n",
    "\n",
    "print(spam)  # prints [2, 4, 'hello', 8, 10]\n"
   ]
  },
  {
   "cell_type": "markdown",
   "id": "b953ef39",
   "metadata": {},
   "source": [
    "# Let's pretend the spam includes the list ['a', 'b', 'c', 'd'] for the next three queries."
   ]
  },
  {
   "cell_type": "markdown",
   "id": "e7a7cff6",
   "metadata": {},
   "source": [
    "## 3. What is the value of spam[int(int('3' * 2) / 11)]?\n",
    "\n",
    "Ans:-The output of the code is 'd'.\n",
    "\n",
    "Here's what's happening:\n",
    "\n",
    "The expression '3' * 2 creates the string '33'.\n",
    "\n",
    "The expression int('33') converts the string '33' to the integer 33.\n",
    "\n",
    "The expression 33 / 11 performs integer division, which results in the integer 3.\n",
    "\n",
    "The expression spam[3] accesses the element at index 3 in the list spam.\n",
    "\n",
    "The value at index 3 of spam is 'd', so the final result is 'd'.\n",
    "\n",
    "So the expression spam[int(int('3' * 2) / 11)] is equivalent to spam[3], which accesses the element at index 3 in the list spam, resulting in the value 'd'."
   ]
  },
  {
   "cell_type": "markdown",
   "id": "0aadd51c",
   "metadata": {},
   "source": [
    "## 4. What is the value of spam[-1]?\n",
    "\n",
    "Ans:- The output of this code is \"d\"."
   ]
  },
  {
   "cell_type": "markdown",
   "id": "85e419d5",
   "metadata": {},
   "source": [
    "## 5. What is the value of spam[:2]?\n",
    "\n",
    "Ans:- The output of this code is ['a', 'b']."
   ]
  },
  {
   "cell_type": "markdown",
   "id": "03711bbd",
   "metadata": {},
   "source": [
    "# Let's pretend bacon has the list [3.14, 'cat,' 11, 'cat,' True] for the next three questions."
   ]
  },
  {
   "cell_type": "markdown",
   "id": "c7cf61ad",
   "metadata": {},
   "source": [
    "##  6. What is the value of bacon.index('cat')?\n",
    "\n",
    "Ans:-The output of this code is \"1\"."
   ]
  },
  {
   "cell_type": "markdown",
   "id": "6ca1ad6d",
   "metadata": {},
   "source": [
    "## 7. How does bacon.append(99) change the look of the list value in bacon?\n",
    "\n",
    "Ans:-The output of this code is \"[3.14, 'cat', 11, 'cat', True, 99]\"."
   ]
  },
  {
   "cell_type": "markdown",
   "id": "97bcef28",
   "metadata": {},
   "source": [
    "## 8. How does bacon.remove('cat') change the look of the list in bacon?\n",
    "\n",
    "Ans:-The output of this code is \"[3.14, 11, 'cat', True]\"."
   ]
  },
  {
   "cell_type": "markdown",
   "id": "517acbf2",
   "metadata": {},
   "source": [
    "## 9. What are the list concatenation and list replication operators?\n",
    "\n",
    "Ans:-In Python, the list concatenation operator is the '+' symbol, and the list replication operator is the '*' symbol.\n",
    "\n",
    "The '+' operator is used to concatenate two or more lists into a single list. Here's an example:\n",
    "\n",
    "list1 = [1, 2, 3]\n",
    "\n",
    "list2 = [4, 5, 6]\n",
    "\n",
    "concatenated_list = list1 + list2\n",
    "\n",
    "print(concatenated_list)  # prints [1, 2, 3, 4, 5, 6]\n",
    "\n",
    "The '*' operator is used to replicate a list a given number of times. Here's an example:\n",
    "\n",
    "original_list = [1, 2, 3]\n",
    "\n",
    "replicated_list = original_list * 3\n",
    "\n",
    "print(replicated_list)  # prints [1, 2, 3, 1, 2, 3, 1, 2, 3]\n"
   ]
  },
  {
   "cell_type": "markdown",
   "id": "2d225cd0",
   "metadata": {},
   "source": [
    "## 10. What is difference between the list methods append() and insert()?\n",
    "\n",
    "Ans:-Both 'append()' and 'insert()' are methods used to add elements to a Python list, but they differ in how they add the elements:\n",
    "\n",
    "1. 'append()' adds an element to the end of the list:\n",
    "\n",
    "my_list = [1, 2, 3]\n",
    "\n",
    "my_list.append(4)\n",
    "\n",
    "print(my_list) # [1, 2, 3, 4]\n",
    "\n",
    "2. 'insert()' adds an element to a specific index in the list:\n",
    "\n",
    "my_list = [1, 2, 3]\n",
    "\n",
    "my_list.insert(1, 4)\n",
    "\n",
    "print(my_list) # [1, 4, 2, 3]\n"
   ]
  },
  {
   "cell_type": "markdown",
   "id": "05d6c20c",
   "metadata": {},
   "source": [
    "## 11. What are the two methods for removing items from a list?\n",
    "\n",
    "Ans:-In Python, there are two commonly used methods for removing items from a list:\n",
    "\n",
    "1. 'remove()': This method removes the first occurrence of a specified element in the list. If the specified element is not present in the list, it raises a ValueError.\n",
    "\n",
    "my_list = [1, 2, 3, 2, 4]\n",
    "\n",
    "my_list.remove(2) # removes the first occurrence of 2\n",
    "\n",
    "print(my_list) # [1, 3, 2, 4]\n",
    "\n",
    "2. 'pop()': This method removes an element from a specific index in the list and returns the removed element. If the index is not specified, it removes and returns the last element in the list.\n",
    "\n",
    "my_list = [1, 2, 3, 4]\n",
    "\n",
    "removed_element = my_list.pop(1) # removes and returns the element at index 1 (i.e., 2)\n",
    "\n",
    "print(my_list) # [1, 3, 4]\n",
    "\n",
    "print(removed_element) # 2\n"
   ]
  },
  {
   "cell_type": "markdown",
   "id": "c6e599e6",
   "metadata": {},
   "source": [
    "## 12. Describe how list values and string values are identical.\n",
    "\n",
    "Ans:- In Python, both lists and strings are sequence types, which means that they share some common characteristics:\n",
    "\n",
    "1. Indexing: Both lists and strings can be indexed using square brackets to access individual elements in the sequence.\n",
    "\n",
    "2. Slicing: Both lists and strings can be sliced using square brackets and colon to extract a subset of the sequence.\n",
    "\n",
    "3. Length: Both lists and strings have a length, which can be obtained using the len() function.\n",
    "\n",
    "4. oncatenation: Both lists and strings can be concatenated using the '+' operator to create a new sequence that combines the elements of the original sequences. "
   ]
  },
  {
   "cell_type": "markdown",
   "id": "225a995e",
   "metadata": {},
   "source": [
    "## 13. What's the difference between tuples and lists?\n",
    "\n",
    "Ans:-In Python, tuples and lists are both used to store a collection of elements, but they differ in some fundamental ways:\n",
    "\n",
    "1. Mutability: The key difference between tuples and lists is that tuples are immutable, meaning that their contents cannot be changed once they are created. In contrast, lists are mutable, which means that their contents can be changed after they are created.\n",
    "\n",
    "2. Syntax: Tuples are written using parentheses '()', while lists are written using square brackets '[]'.\n",
    "\n",
    "3. Element access: Elements in both tuples and lists can be accessed using indexing and slicing, but the syntax is the same for both.\n",
    "\n",
    "4. Functions: Some functions in Python work with both tuples and lists, while others work with only one or the other. For example, both tuples and lists have the 'len()' function that returns the number of elements in the collection. However, lists have several functions that can modify their contents, such as 'append()', 'insert()', and 'remove()', while tuples do not have any such functions."
   ]
  },
  {
   "cell_type": "markdown",
   "id": "2e803e49",
   "metadata": {},
   "source": [
    "## 14. How do you type a tuple value that only contains the integer 42?\n",
    "\n",
    "Ans:- To create a tuple value that only contains the integer 42, you can use the following syntax:\n",
    "\n",
    "my_tuple = (42,)\n"
   ]
  },
  {
   "cell_type": "markdown",
   "id": "f4987955",
   "metadata": {},
   "source": [
    "## 15. How do you get a list value's tuple form? How do you get a tuple value's list form?\n",
    "\n",
    "Ans:- \n",
    "To convert a list value to a tuple form, you can use the tuple() function. This function takes an iterable as input (such as a list), and returns a tuple containing the same elements. Here's an example:\n",
    "\n",
    "my_list = [1, 2, 3]\n",
    "\n",
    "my_tuple = tuple(my_list)\n",
    "\n",
    "print(my_tuple) # (1, 2, 3)\n",
    "\n",
    "To convert a tuple value to a list form, you can use the list() function. This function takes an iterable as input (such as a tuple), and returns a list containing the same elements. Here's an example:\n",
    "\n",
    "my_tuple = (1, 2, 3)\n",
    "\n",
    "my_list = list(my_tuple)\n",
    "\n",
    "print(my_list) # [1, 2, 3]\n"
   ]
  },
  {
   "cell_type": "markdown",
   "id": "90e27a12",
   "metadata": {},
   "source": [
    "## 16. Variables that \"contain\" list values are not necessarily lists themselves. Instead, what do they contain?\n",
    "\n",
    "Ans:-In Python, variables that \"contain\" list values are actually references to the list objects in memory. This means that the variable contains a memory address that points to the location of the list object in the computer's memory.\n",
    "\n",
    "When you assign a list to a variable, you are actually storing a reference to the list object in the variable. This is different from some other programming languages, where variables directly contain the values they represent.\n",
    "\n",
    "For example, consider the following code:\n",
    "\n",
    "my_list = [1, 2, 3]\n",
    "\n",
    "In this case, 'my_list' is not actually a list itself, but rather a reference to a list object in memory that contains the values '[1, 2, 3]'. If you assign the value of 'my_list' to another variable, you are simply creating another reference to the same list object:\n",
    "\n",
    "new_list = my_list\n",
    "\n",
    "Now both 'my_list' and 'new_list' contain references to the same list object in memory. Any changes you make to the object through one variable will be reflected in the other variable as well."
   ]
  },
  {
   "cell_type": "markdown",
   "id": "e1e7e7ba",
   "metadata": {},
   "source": [
    "## 17. How do you distinguish between copy.copy() and copy.deepcopy()?\n",
    "\n",
    "Ans:-In Python, the 'copy' module provides two methods for creating copies of objects: 'copy.copy()' and 'copy.deepcopy()'. Both methods are used to create a copy of an object, but they differ in how they handle object references and nested objects.\n",
    "\n",
    "1. 'copy.copy()' creates a shallow copy of an object. This means that it creates a new object with a new memory address, but it references the same nested objects as the original object. In other words, it copies only the top-level object and its immediate references to other objects, but it does not recursively copy nested objects. Here's an example:\n",
    "\n",
    "import copy\n",
    "\n",
    "my_list = [[1, 2], [3, 4]]\n",
    "\n",
    "new_list = copy.copy(my_list)\n",
    "\n",
    "print(my_list)    # [[1, 2], [3, 4]]\n",
    "\n",
    "print(new_list)   # [[1, 2], [3, 4]]\n",
    "\n",
    "my_list[0][0] = 5\n",
    "\n",
    "print(my_list)    # [[5, 2], [3, 4]]\n",
    "\n",
    "print(new_list)   # [[5, 2], [3, 4]] (also changed)\n",
    "\n",
    "\n",
    "2. 'copy.deepcopy()' creates a deep copy of an object. This means that it creates a new object with a new memory address, and it recursively copies all nested objects as well. This ensures that the new object is entirely separate from the original object, and changes made to one will not affect the other. Here's an example:\n",
    "\n",
    "import copy\n",
    "\n",
    "my_list = [[1, 2], [3, 4]]\n",
    "\n",
    "new_list = copy.deepcopy(my_list)\n",
    "\n",
    "print(my_list)    # [[1, 2], [3, 4]]\n",
    "\n",
    "print(new_list)   # [[1, 2], [3, 4]]\n",
    "\n",
    "my_list[0][0] = 5\n",
    "\n",
    "print(my_list)    # [[5, 2], [3, 4]]\n",
    "\n",
    "print(new_list)   # [[1, 2], [3, 4]] (not changed)\n"
   ]
  },
  {
   "cell_type": "code",
   "execution_count": null,
   "id": "361346d2",
   "metadata": {},
   "outputs": [],
   "source": []
  }
 ],
 "metadata": {
  "kernelspec": {
   "display_name": "Python 3 (ipykernel)",
   "language": "python",
   "name": "python3"
  },
  "language_info": {
   "codemirror_mode": {
    "name": "ipython",
    "version": 3
   },
   "file_extension": ".py",
   "mimetype": "text/x-python",
   "name": "python",
   "nbconvert_exporter": "python",
   "pygments_lexer": "ipython3",
   "version": "3.10.9"
  }
 },
 "nbformat": 4,
 "nbformat_minor": 5
}
