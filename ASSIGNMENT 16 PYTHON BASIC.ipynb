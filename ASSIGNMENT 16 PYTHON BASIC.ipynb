{
 "cells": [
  {
   "cell_type": "markdown",
   "id": "08f329a4",
   "metadata": {},
   "source": [
    "## 1. Create a list called years_list, starting with the year of your birth, and each year thereafter until the year of your fifth birthday. For example, if you were born in 1980. the list would be years_list = [1980, 1981, 1982, 1983, 1984, 1985].\n",
    "\n",
    "Ans:-Sure, here's how you can create the years_list as per the given instructions, assuming you were born in 2010:\n",
    "\n",
    "years_list = [2010, 2011, 2012, 2013, 2014, 2015]\n"
   ]
  },
  {
   "cell_type": "markdown",
   "id": "56381a8f",
   "metadata": {},
   "source": [
    "## 2. In which year in years_list was your third birthday? Remember, you were 0 years of age for your first year.\n",
    "\n",
    "Ans:-If I was born in 2010, then my third birthday would have been in the year 2013.\n",
    "\n",
    "Here's why:\n",
    "\n",
    "I was 0 years old in 2010 (my birth year).\n",
    "\n",
    "I turned 1 year old in 2011 (my first birthday).\n",
    "\n",
    "I turned 2 years old in 2012 (my second birthday).\n",
    "\n",
    "I turned 3 years old in 2013 (my third birthday).\n",
    "\n",
    "Therefore, the year in years_list when I turned 3 years old was 2013."
   ]
  },
  {
   "cell_type": "markdown",
   "id": "cd25e530",
   "metadata": {},
   "source": [
    "## 3.In the years list, which year were you the oldest?\n",
    "\n",
    "Ans:-If I was born in 2010 and the years_list goes up until 2015 (the year of my fifth birthday), then the year in which I was the oldest would be 2015, since that's the last year in the list and the year in which I turned 5 years old.\n",
    "\n",
    "So, the year in years_list when I was the oldest was 2015.\n"
   ]
  },
  {
   "cell_type": "markdown",
   "id": "e42b8aac",
   "metadata": {},
   "source": [
    "## 4. Make a list called things with these three strings as elements: \"mozzarella\", \"cinderella\", \"salmonella\".\n",
    "\n",
    "Ans:-things = [\"mozzarella\", \"cinderella\", \"salmonella\"]\n"
   ]
  },
  {
   "cell_type": "markdown",
   "id": "53dff837",
   "metadata": {},
   "source": [
    "## 5. Capitalize the element in things that refers to a person and then print the list. Did it change the element in the list?\n",
    "\n",
    "Ans:-Sure, here's how you can capitalize the element in things that refers to a person (i.e., \"cinderella\") and print the updated list:\n",
    "\n",
    "things = [\"mozzarella\", \"cinderella\", \"salmonella\"]\n",
    "\n",
    "things[1] = things[1].capitalize()\n",
    "\n",
    "print(things)\n",
    "\n",
    "\n",
    "Output:\n",
    "\n",
    "['mozzarella', 'Cinderella', 'salmonella']\n"
   ]
  },
  {
   "cell_type": "markdown",
   "id": "dcde2a1f",
   "metadata": {},
   "source": [
    "## 6. Make a surprise list with the elements \"Groucho,\" \"Chico,\" and \"Harpo.\"\n",
    "\n",
    "Ans:-surprise = [\"Groucho\", \"Chico\", \"Harpo\"]\n",
    "\n"
   ]
  },
  {
   "cell_type": "markdown",
   "id": "b3f51337",
   "metadata": {},
   "source": [
    "## 7. Lowercase the last element of the surprise list, reverse it, and then capitalize it.\n",
    "\n",
    "Ans:-Sure, here's how you can perform the operations on the last element of the surprise list and then capitalize it:\n",
    "\n",
    "surprise = [\"Groucho\", \"Chico\", \"Harpo\"]\n",
    "\n",
    "last_element = surprise[-1]  # get the last element\n",
    "\n",
    "last_element = last_element.lower()  # lowercase the last element\n",
    "\n",
    "last_element = last_element[::-1]  # reverse the last element\n",
    "\n",
    "last_element = last_element.capitalize()  # capitalize the last element\n",
    "\n",
    "surprise[-1] = last_element  # update the last element in the original list\n"
   ]
  },
  {
   "cell_type": "markdown",
   "id": "d7259f86",
   "metadata": {},
   "source": [
    "## 8. Make an English-to-French dictionary called e2f and print it. Here are your starter words: dog is chien, cat is chat, and walrus is morse.\n",
    "\n",
    "Ans:-8. Make an English-to-French dictionary called e2f and print it. Here are your starter words: dog is chien, cat is chat, and walrus is morse.\n",
    "\n",
    "e2f = {\"dog\": \"chien\", \"cat\": \"chat\", \"walrus\": \"morse\"}\n",
    "\n",
    "print(e2f)\n",
    "\n",
    "\n",
    "Output:\n",
    "\n",
    "\n",
    "{'dog': 'chien', 'cat': 'chat', 'walrus': 'morse'}\n",
    " "
   ]
  },
  {
   "cell_type": "markdown",
   "id": "2f562251",
   "metadata": {},
   "source": [
    "## 9. Write the French word for walrus in your three-word dictionary e2f.\n",
    "\n",
    "Ans:-The French word for \"walrus\" in the e2f dictionary is \"morse\".\n",
    "\n",
    "Here's how you can retrieve the French word for \"walrus\" from the dictionary:\n",
    "\n",
    "e2f = {\"dog\": \"chien\", \"cat\": \"chat\", \"walrus\": \"morse\"}\n",
    "\n",
    "french_word = e2f[\"walrus\"]\n",
    "\n",
    "print(french_word)\n",
    "\n",
    "\n",
    "Output:\n",
    "\n",
    "\n",
    "morse\n"
   ]
  },
  {
   "cell_type": "markdown",
   "id": "a1eaf8e8",
   "metadata": {},
   "source": [
    "## 10. Make a French-to-English dictionary called f2e from e2f. Use the items method.\n",
    "\n",
    "Ans:-Sure, here's how you can create the f2e dictionary by swapping the keys and values of the e2f dictionary using the items() method:\n",
    "\n",
    "e2f = {\"dog\": \"chien\", \"cat\": \"chat\", \"walrus\": \"morse\"}\n",
    "\n",
    "f2e = {value: key for key, value in e2f.items()}\n",
    "\n",
    "print(f2e)\n",
    "\n",
    "\n",
    "Output:\n",
    "\n",
    "\n",
    "{'chien': 'dog', 'chat': 'cat', 'morse': 'walrus'}\n"
   ]
  },
  {
   "cell_type": "markdown",
   "id": "fbe22431",
   "metadata": {},
   "source": [
    "## 11. Print the English version of the French word chien using f2e. \n",
    "\n",
    "Ans:-Sure, here's how you can retrieve the English version of the French word \"chien\" from the f2e dictionary:\n",
    "\n",
    "e2f = {\"dog\": \"chien\", \"cat\": \"chat\", \"walrus\": \"morse\"}\n",
    "\n",
    "f2e = {value: key for key, value in e2f.items()}\n",
    "\n",
    "english_word = f2e[\"chien\"]\n",
    "\n",
    "print(english_word)\n",
    "\n",
    "\n",
    "Output:\n",
    "\n",
    "dog\n"
   ]
  },
  {
   "cell_type": "markdown",
   "id": "c35d9d2e",
   "metadata": {},
   "source": [
    "## 12. Make and print a set of English words from the keys in e2f.\n",
    "\n",
    "Ans:-Sure, here's how you can create a set of English words from the keys in the e2f dictionary and then print it:\n",
    "\n",
    "e2f = {\"dog\": \"chien\", \"cat\": \"chat\", \"walrus\": \"morse\"}\n",
    "\n",
    "english_words = set(e2f.keys())\n",
    "\n",
    "print(english_words)\n",
    "\n",
    "\n",
    "Output:\n",
    "\n",
    "{'dog', 'cat', 'walrus'}\n"
   ]
  },
  {
   "cell_type": "markdown",
   "id": "93077165",
   "metadata": {},
   "source": [
    "## 13. Make a multilevel dictionary called life. Use these strings for the topmost keys: 'animals', 'plants', and 'other'. Make the 'animals' key refer to another dictionary with the keys 'cats', 'octopi', and 'emus'. Make the 'cats' key refer to a list of strings with the values 'Henri', 'Grumpy', and 'Lucy'. Make all the other keys refer to empty dictionaries.\n",
    "\n",
    "Ans:-life = {\n",
    "\n",
    "    \"animals\": {\n",
    "    \n",
    "        \"cats\": [\"Henri\", \"Grumpy\", \"Lucy\"],\n",
    "        \n",
    "        \"octopi\": {},\n",
    "        \n",
    "        \"emus\": {}\n",
    "        \n",
    "    },\n",
    "    \n",
    "    \"plants\": {},\n",
    "    \n",
    "    \"other\": {}\n",
    "    \n",
    "}\n",
    "print(life)\n",
    "\n",
    "\n",
    "Output:\n",
    "\n",
    "{'animals': {'cats': ['Henri', 'Grumpy', 'Lucy'], 'octopi': {}, 'emus': {}}, 'plants': {}, 'other': {}}\n"
   ]
  },
  {
   "cell_type": "markdown",
   "id": "b2c1e431",
   "metadata": {},
   "source": [
    "## 14. Print the top-level keys of life.\n",
    "\n",
    "Ans:-life = {\n",
    "\n",
    "    \"animals\": {\n",
    "    \n",
    "        \"cats\": [\"Henri\", \"Grumpy\", \"Lucy\"],\n",
    "        \n",
    "        \"octopi\": {},\n",
    "        \n",
    "        \"emus\": {}\n",
    "        \n",
    "    },\n",
    "    \n",
    "    \"plants\": {},\n",
    "    \n",
    "    \"other\": {}\n",
    "    \n",
    "}\n",
    "\n",
    "print(life.keys())\n",
    "\n",
    "\n",
    "Output:\n",
    "\n",
    "dict_keys(['animals', 'plants', 'other'])\n"
   ]
  },
  {
   "cell_type": "markdown",
   "id": "1445754f",
   "metadata": {},
   "source": [
    "## 15. Print the keys for life['animals'].\n",
    "\n",
    "Ans:-life = {\n",
    "\n",
    "    \"animals\": {\n",
    "    \n",
    "        \"cats\": [\"Henri\", \"Grumpy\", \"Lucy\"],\n",
    "        \n",
    "        \"octopi\": {},\n",
    "        \n",
    "        \"emus\": {}\n",
    "        \n",
    "    },\n",
    "    \n",
    "    \"plants\": {},\n",
    "    \n",
    "    \"other\": {}\n",
    "    \n",
    "}\n",
    "\n",
    "print(life['animals'].keys())\n",
    "\n",
    "\n",
    "Output:\n",
    "\n",
    "dict_keys(['cats', 'octopi', 'emus'])\n",
    "\n"
   ]
  },
  {
   "cell_type": "markdown",
   "id": "d04e71be",
   "metadata": {},
   "source": [
    "## 16. Print the values for life['animals']['cats'].\n",
    "\n",
    "Ans:-life = {\n",
    "\n",
    "    \"animals\": {\n",
    "    \n",
    "        \"cats\": [\"Henri\", \"Grumpy\", \"Lucy\"],\n",
    "        \n",
    "        \"octopi\": {},\n",
    "        \n",
    "        \"emus\": {}\n",
    "        \n",
    "    },\n",
    "    \n",
    "    \"plants\": {},\n",
    "    \n",
    "    \"other\": {}\n",
    "    \n",
    "}\n",
    "\n",
    "print(life['animals']['cats'])\n",
    "\n",
    "\n",
    "Output:\n",
    "\n",
    "['Henri', 'Grumpy', 'Lucy']\n"
   ]
  },
  {
   "cell_type": "code",
   "execution_count": null,
   "id": "c93e3731",
   "metadata": {},
   "outputs": [],
   "source": []
  }
 ],
 "metadata": {
  "kernelspec": {
   "display_name": "Python 3 (ipykernel)",
   "language": "python",
   "name": "python3"
  },
  "language_info": {
   "codemirror_mode": {
    "name": "ipython",
    "version": 3
   },
   "file_extension": ".py",
   "mimetype": "text/x-python",
   "name": "python",
   "nbconvert_exporter": "python",
   "pygments_lexer": "ipython3",
   "version": "3.10.9"
  }
 },
 "nbformat": 4,
 "nbformat_minor": 5
}
