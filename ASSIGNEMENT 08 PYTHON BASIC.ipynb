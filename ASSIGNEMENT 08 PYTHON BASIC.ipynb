{
 "cells": [
  {
   "cell_type": "markdown",
   "id": "983a8323",
   "metadata": {},
   "source": [
    "## 1. Is the Python Standard Library included with PyInputPlus?\n",
    "\n",
    "Ans:-No, the Python Standard Library is not included with PyInputPlus. However, PyInputPlus is built on top of the Python Standard Library's input() function, so it can be used alongside the standard library in Python."
   ]
  },
  {
   "cell_type": "markdown",
   "id": "a8d52e2d",
   "metadata": {},
   "source": [
    "## 2. Why is PyInputPlus commonly imported with import pyinputplus as pypi?\n",
    "\n",
    "Ans:-PyInputPlus is commonly imported with the alias pypi to make it easier and faster to type in code. The name pyinputplus can be quite long to repeatedly type out in code, especially if it's used frequently throughout a script. By using the shorter alias pypi, developers can save time and typing effort.\n",
    "\n",
    "Additionally, using a short and meaningful alias like pypi can improve the readability of the code, making it easier to understand for other developers who might be working on the same project."
   ]
  },
  {
   "cell_type": "markdown",
   "id": "f622ca95",
   "metadata": {},
   "source": [
    "## 3. How do you distinguish between inputInt() and inputFloat()?\n",
    "\n",
    "Ans:-inputInt() and inputFloat() are both PyInputPlus functions used for getting user input, but they differ in the type of input they accept and return:\n",
    "\n",
    "inputInt() is used for getting integer input from the user. It validates that the input provided by the user is an integer, and reprompts the user if the input is invalid. It returns the integer value of the user input.\n",
    "\n",
    "inputFloat() is used for getting floating-point input from the user. It validates that the input provided by the user can be converted to a floating-point number, and reprompts the user if the input is invalid. It returns the floating-point value of the user input.\n",
    "\n"
   ]
  },
  {
   "cell_type": "markdown",
   "id": "10a7cd0f",
   "metadata": {},
   "source": [
    "## 4. Using PyInputPlus, how do you ensure that the user enters a whole number between 0 and 99?\n",
    "\n",
    "Ans:-To ensure that the user enters a whole number between 0 and 99 using PyInputPlus, you can use the 'inputInt()' function with the 'min', max, and prompt parameters to set the minimum and maximum values that the user can input, and to display a custom prompt message to the user. Here's an example code snippet:\n",
    "\n",
    "import pyinputplus as pypi\n",
    "\n",
    "number = pypi.inputInt(prompt=\"Please enter a number between 0 and 99: \",min=0, max=99)\n",
    "\n",
    "print(f\"You entered {number}.\")\n"
   ]
  },
  {
   "cell_type": "markdown",
   "id": "2d18e383",
   "metadata": {},
   "source": [
    "## 5. What is transferred to the keyword arguments allowRegexes and blockRegexes?\n",
    "\n",
    "Ans:-The allowRegexes and blockRegexes parameters are keyword arguments in PyInputPlus functions that allow the developer to specify regular expressions that are either allowed or blocked from being entered by the user. These regular expressions can be used to define custom input validation rules that go beyond the built-in validation rules provided by PyInputPlus.\n",
    "\n",
    "allowRegexes: This parameter is used to specify a list of regular expressions that are allowed to be entered by the user. If the user input matches any of the regular expressions in the allowRegexes list, it is considered valid input.\n",
    "\n",
    "blockRegexes: This parameter is used to specify a list of regular expressions that are not allowed to be entered by the user. If the user input matches any of the regular expressions in the blockRegexes list, it is considered invalid input.\n",
    "\n",
    "Here's an example usage of allowRegexes and blockRegexes:\n",
    "\n",
    "import pyinputplus as pypi\n",
    "\n",
    "name = pypi.inputStr(prompt=\"Enter your name: \",\n",
    "                     allowRegexes=[r'^[a-z ]*$'],\n",
    "                     blockRegexes=[r'\\d'])\n",
    "\n",
    "print(f\"Hello, {name}!\")\n"
   ]
  },
  {
   "cell_type": "markdown",
   "id": "63af111d",
   "metadata": {},
   "source": [
    "## 6. If a blank input is entered three times, what does inputStr(limit=3) do?\n",
    "\n",
    "Ans:-If a blank input is entered three times when using the inputStr(limit=3) function in PyInputPlus, PyInputPlus will raise a TimeoutException with a helpful error message, and will stop prompting the user for input. This is because the limit parameter in inputStr() sets the maximum number of times that PyInputPlus will accept a blank input from the user before raising a TimeoutException.\n",
    "\n"
   ]
  },
  {
   "cell_type": "markdown",
   "id": "3f6b3763",
   "metadata": {},
   "source": [
    "## 7. If blank input is entered three times, what does inputStr(limit=3, default='hello') do?\n",
    "\n",
    "Ans:-If blank input is entered three times when using the inputStr(limit=3, default='hello') function in PyInputPlus, PyInputPlus will return the default value of 'hello'. This is because the default parameter in inputStr() sets the default value that PyInputPlus will return if the user enters a blank input and the maximum number of blank inputs allowed by the limit parameter is reached."
   ]
  },
  {
   "cell_type": "code",
   "execution_count": null,
   "id": "c3d50244",
   "metadata": {},
   "outputs": [],
   "source": []
  }
 ],
 "metadata": {
  "kernelspec": {
   "display_name": "Python 3 (ipykernel)",
   "language": "python",
   "name": "python3"
  },
  "language_info": {
   "codemirror_mode": {
    "name": "ipython",
    "version": 3
   },
   "file_extension": ".py",
   "mimetype": "text/x-python",
   "name": "python",
   "nbconvert_exporter": "python",
   "pygments_lexer": "ipython3",
   "version": "3.10.9"
  }
 },
 "nbformat": 4,
 "nbformat_minor": 5
}
