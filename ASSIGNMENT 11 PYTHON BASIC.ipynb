{
 "cells": [
  {
   "cell_type": "markdown",
   "id": "6dc74e9f",
   "metadata": {},
   "source": [
    "## 1. Create an assert statement that throws an AssertionError if the variable spam is a negative integer.\n",
    "\n",
    "Ans:-Here's an assert statement that throws an AssertionError if the variable spam is a negative integer:\n",
    "\n",
    "assert spam >= 0, \"The value of spam should be a non-negative integer\"\n",
    "\n",
    "This assert statement checks that the value of 'spam' is greater than or equal to 0. If spam is a negative integer, the assertion will fail and raise an AssertionError with the message \"The value of spam should be a non-negative integer\". If spam is non-negative, the assertion will pass silently and the program will continue running.\n"
   ]
  },
  {
   "cell_type": "markdown",
   "id": "6a83a436",
   "metadata": {},
   "source": [
    "## 2. Write an assert statement that triggers an AssertionError if the variables eggs and bacon contain strings that are the same as each other, even if their cases are different (that is, 'hello' and 'hello' are considered the same, and 'goodbye' and 'GOODbye' are also considered the same).\n",
    "\n",
    "Ans:-Here's an assert statement that triggers an AssertionError if the variables 'eggs' and 'bacon' contain strings that are the same as each other, even if their cases are different:\n",
    "\n",
    "assert eggs.lower() != bacon.lower(), \"The strings in eggs and bacon should be different, even if their cases are different\"\n",
    "\n",
    "This assert statement checks that the lowercase versions of the strings in 'eggs' and 'bacon' are different. If the lowercase versions of the strings are the same, the assertion will fail and raise an AssertionError with the message \"The strings in eggs and bacon should be different, even if their cases are different\". If the lowercase versions of the strings are different, the assertion will pass silently and the program will continue running.\n"
   ]
  },
  {
   "cell_type": "markdown",
   "id": "133cc477",
   "metadata": {},
   "source": [
    "## 3. Create an assert statement that throws an AssertionError every time.\n",
    "\n",
    "Ans:-Here's an assert statement that throws an AssertionError every time:\n",
    "\n",
    "assert False, \"This assertion always fails\"\n",
    "\n",
    "This assert statement checks that the Boolean value 'False' is true. Since 'False' is always false, the assertion will fail and raise an AssertionError with the message \"This assertion always fails\". The program will stop executing at this point because the assertion failed.\n"
   ]
  },
  {
   "cell_type": "markdown",
   "id": "86bc3f61",
   "metadata": {},
   "source": [
    "## 4. What are the two lines that must be present in your software in order to call logging.debug()?\n",
    "\n",
    "Ans:-In order to call the logging.debug() function, the following two lines must be present in your software:\n",
    "\n",
    "import logging\n",
    "logging.basicConfig(level=logging.DEBUG)\n",
    "\n",
    "The first line imports the logging module, which provides a flexible way to log messages from your code.\n",
    "\n",
    "The second line configures the logging system to output messages with a severity level of DEBUG or higher. This means that 'logging.debug()' messages will be printed to the console or written to a log file, depending on how you've configured the logging system. You can adjust the severity level to control which messages are printed or logged."
   ]
  },
  {
   "cell_type": "markdown",
   "id": "2e93861b",
   "metadata": {},
   "source": [
    "## 5. What are the two lines that your program must have in order to have logging.debug() send a logging message to a file named programLog.txt?\n",
    "\n",
    "Ans:-In order to send 'logging.debug()' messages to a file named programLog.txt, you need to add the following two lines of code to your program:\n",
    "\n",
    "import logging\n",
    "\n",
    "logging.basicConfig(filename='programLog.txt', level=logging.DEBUG)\n",
    "\n",
    "\n",
    "The first line imports the logging module.\n",
    "\n",
    "The second line configures the logging system to output messages with a severity level of DEBUG or higher to a file named programLog.txt. You can change the filename to a different name or path as needed."
   ]
  },
  {
   "cell_type": "markdown",
   "id": "48e1f3d4",
   "metadata": {},
   "source": [
    "## 6. What are the five levels of logging?\n",
    "\n",
    "Ans:-Python's logging module defines the following five levels of logging, in increasing order of severity:\n",
    "\n",
    "DEBUG: Detailed information, typically of interest only when diagnosing problems.\n",
    "\n",
    "INFO: General information about what's happening in the program.\n",
    "\n",
    "WARNING: An indication that something unexpected or potentially problematic has happened, or indicative of some problem in the near future (e.g. 'disk space low'). The software is still working as expected.\n",
    "\n",
    "ERROR: An error has occurred. The software may still be able to continue running.\n",
    "\n",
    "CRITICAL: A critical error has occurred. The program is unable to continue running."
   ]
  },
  {
   "cell_type": "markdown",
   "id": "26c2c263",
   "metadata": {},
   "source": [
    "## 7. What line of code would you add to your software to disable all logging messages?\n",
    "\n",
    "Ans:-To disable all logging messages in your software, you can add the following line of code:\n",
    "\n",
    "logging.disable(logging.CRITICAL)\n",
    "This line disables all logging messages with a severity level of CRITICAL or lower. Since CRITICAL is the highest severity level, this effectively disables all logging messages.\n",
    "\n",
    "You should place this line of code at the beginning of your program, before any logging calls are made, to ensure that no logging messages are output. Note that this line of code will also disable any logging messages from third-party modules that your program uses."
   ]
  },
  {
   "cell_type": "markdown",
   "id": "b814ea2c",
   "metadata": {},
   "source": [
    "## 8.Why is using logging messages better than using print() to display the same message?\n",
    "\n",
    "Ans:-Using logging messages is better than using print() to display the same message for several reasons:\n",
    "\n",
    "1.Flexibility: The logging module provides a lot more flexibility and configurability than print(). You can set different logging levels, output messages to different destinations (e.g. files, console), and format the messages in different ways. This makes it easier to customize the logging output to suit your needs.\n",
    "\n",
    "2.Severity levels: Logging messages have severity levels (e.g. DEBUG, INFO, WARNING, ERROR, CRITICAL) that can be used to control which messages are output at different times. This allows you to focus on specific types of messages depending on what you're trying to do, and to filter out irrelevant messages.\n",
    "\n",
    "3.Compatibility with libraries: Many libraries use logging to output messages, so using print() to output your own messages can make it harder to distinguish your messages from the library messages. By using logging, you can integrate your own messages more seamlessly with library messages.\n",
    "\n",
    "4.Performance: print() statements can slow down your code, especially if you're outputting a lot of messages. The logging module is designed to be more efficient and less of a performance overhead.\n",
    "\n",
    "5.Maintenance: If you use print() statements throughout your code and later decide you want to change the way messages are output or filtered, you'll need to manually update all the print() statements. If you use logging, you can make the changes in one place (the logging configuration) and have them automatically apply to all logging messages."
   ]
  },
  {
   "cell_type": "markdown",
   "id": "5d17c154",
   "metadata": {},
   "source": [
    "## 9. What are the differences between the Step Over, Step In, and Step Out buttons in the debugger?\n",
    "\n",
    "Ans:-The Step Over, Step In, and Step Out buttons are debugging tools available in Python debuggers, such as the built-in pdb module or integrated development environments (IDEs) like PyCharm. These buttons allow you to step through your code line by line and inspect variables and expressions at each step. Here are the differences between the three buttons:\n",
    "\n",
    "1.Step Over: When you click the Step Over button, the debugger executes the current line of code and then stops at the next line. If the current line contains a function call, the function is executed, but the debugger does not stop inside the function. This is useful for quickly stepping through code without getting bogged down in details.\n",
    "\n",
    "2.Step In: When you click the Step In button, the debugger moves into the next function call on the current line and stops at the first line of the function. If the current line does not contain a function call, Step In acts like Step Over. This is useful for examining the details of a specific function call.\n",
    "\n",
    "3.Step Out: When you click the Step Out button, the debugger executes the current function call and stops at the next line after the function call. This is useful for quickly returning to the higher-level context after examining the details of a specific function call."
   ]
  },
  {
   "cell_type": "markdown",
   "id": "e043bdd0",
   "metadata": {},
   "source": [
    "## 10.After you click Continue, when will the debugger stop ?\n",
    "\n",
    "Ans:-When you click Continue in a debugger, the debugger will continue running the program without any further interruptions until one of the following happens:\n",
    "\n",
    "1.The program reaches the end of its execution and terminates.\n",
    "\n",
    "2.A breakpoint is encountered. If a breakpoint is set in the code, the debugger will stop execution when it reaches that line of code.\n",
    "\n",
    "3.An unhandled exception occurs. If the program raises an unhandled exception, the debugger will stop execution and display the traceback and error message."
   ]
  },
  {
   "cell_type": "markdown",
   "id": "6c9f9b81",
   "metadata": {},
   "source": [
    "## 11. What is the concept of a breakpoint?\n",
    "\n",
    "Ans:-A breakpoint is a point in your program's code where the debugger pauses execution, allowing you to inspect the program's state at that point. When you set a breakpoint, the debugger will stop execution when it reaches that line of code, giving you the opportunity to examine variables, inspect the call stack, and step through the code line by line."
   ]
  },
  {
   "cell_type": "code",
   "execution_count": null,
   "id": "4637e844",
   "metadata": {},
   "outputs": [],
   "source": []
  }
 ],
 "metadata": {
  "kernelspec": {
   "display_name": "Python 3 (ipykernel)",
   "language": "python",
   "name": "python3"
  },
  "language_info": {
   "codemirror_mode": {
    "name": "ipython",
    "version": 3
   },
   "file_extension": ".py",
   "mimetype": "text/x-python",
   "name": "python",
   "nbconvert_exporter": "python",
   "pygments_lexer": "ipython3",
   "version": "3.10.9"
  }
 },
 "nbformat": 4,
 "nbformat_minor": 5
}
